{
 "cells": [
  {
   "cell_type": "code",
   "execution_count": 530,
   "id": "d42778cf-0fb9-47b9-82fc-443f06add2fc",
   "metadata": {},
   "outputs": [],
   "source": [
    "import pandas as pd\n",
    "from matplotlib_venn import venn2, venn2_circles, venn2_unweighted\n",
    "from matplotlib_venn import venn3, venn3_circles\n",
    "from matplotlib import pyplot as plt\n",
    "import numpy as np\n",
    "from decimal import Decimal, ROUND_HALF_UP\n",
    "%matplotlib inline"
   ]
  },
  {
   "cell_type": "code",
   "execution_count": null,
   "id": "3cd1f50e-5b30-416d-bc8f-5f12a2211a9b",
   "metadata": {},
   "outputs": [],
   "source": []
  },
  {
   "cell_type": "markdown",
   "id": "d6221829-0f57-4b2c-8dff-3a7cb3a51743",
   "metadata": {},
   "source": [
    "# load data"
   ]
  },
  {
   "cell_type": "code",
   "execution_count": 3,
   "id": "8f7c60dd-5a22-4d73-9f7b-961b2a0af376",
   "metadata": {},
   "outputs": [
    {
     "name": "stdout",
     "output_type": "stream",
     "text": [
      "EDA.ipynb\n",
      "work\n",
      "【ローデータ・GT表】2209_リサイクルPET価値調査(2回目).xlsx\n"
     ]
    }
   ],
   "source": [
    "%%bash\n",
    "ls"
   ]
  },
  {
   "cell_type": "code",
   "execution_count": 9,
   "id": "81ab30f3-41f8-4ae1-97dc-087dea1a5f14",
   "metadata": {},
   "outputs": [
    {
     "data": {
      "text/html": [
       "<div>\n",
       "<style scoped>\n",
       "    .dataframe tbody tr th:only-of-type {\n",
       "        vertical-align: middle;\n",
       "    }\n",
       "\n",
       "    .dataframe tbody tr th {\n",
       "        vertical-align: top;\n",
       "    }\n",
       "\n",
       "    .dataframe thead th {\n",
       "        text-align: right;\n",
       "    }\n",
       "</style>\n",
       "<table border=\"1\" class=\"dataframe\">\n",
       "  <thead>\n",
       "    <tr style=\"text-align: right;\">\n",
       "      <th></th>\n",
       "      <th>シート名</th>\n",
       "      <th>列番号</th>\n",
       "      <th>Unnamed: 2</th>\n",
       "      <th>ラベル</th>\n",
       "      <th>質問文</th>\n",
       "      <th>Unnamed: 5</th>\n",
       "      <th>質問_x000D_\\nタイプ</th>\n",
       "      <th>カテゴリ数</th>\n",
       "      <th>カテゴリ_x000D_\\nno</th>\n",
       "      <th>カテゴリ</th>\n",
       "    </tr>\n",
       "  </thead>\n",
       "  <tbody>\n",
       "    <tr>\n",
       "      <th>0</th>\n",
       "      <td>1;group～q12</td>\n",
       "      <td>A</td>\n",
       "      <td>1.0</td>\n",
       "      <td>no</td>\n",
       "      <td>NaN</td>\n",
       "      <td>NaN</td>\n",
       "      <td>NaN</td>\n",
       "      <td>NaN</td>\n",
       "      <td>NaN</td>\n",
       "      <td>NaN</td>\n",
       "    </tr>\n",
       "    <tr>\n",
       "      <th>1</th>\n",
       "      <td>1;group～q12</td>\n",
       "      <td>B</td>\n",
       "      <td>2.0</td>\n",
       "      <td>group</td>\n",
       "      <td>GROUP</td>\n",
       "      <td>グループ</td>\n",
       "      <td>SA</td>\n",
       "      <td>20.0</td>\n",
       "      <td>1.0</td>\n",
       "      <td>ペットボトルに関する設問を 先に表示／男性／20-29歳</td>\n",
       "    </tr>\n",
       "    <tr>\n",
       "      <th>2</th>\n",
       "      <td>NaN</td>\n",
       "      <td>NaN</td>\n",
       "      <td>NaN</td>\n",
       "      <td>NaN</td>\n",
       "      <td>NaN</td>\n",
       "      <td>NaN</td>\n",
       "      <td>NaN</td>\n",
       "      <td>NaN</td>\n",
       "      <td>2.0</td>\n",
       "      <td>ペットボトルに関する設問を 先に表示／男性／30-39歳</td>\n",
       "    </tr>\n",
       "    <tr>\n",
       "      <th>3</th>\n",
       "      <td>NaN</td>\n",
       "      <td>NaN</td>\n",
       "      <td>NaN</td>\n",
       "      <td>NaN</td>\n",
       "      <td>NaN</td>\n",
       "      <td>NaN</td>\n",
       "      <td>NaN</td>\n",
       "      <td>NaN</td>\n",
       "      <td>3.0</td>\n",
       "      <td>ペットボトルに関する設問を 先に表示／男性／40-49歳</td>\n",
       "    </tr>\n",
       "    <tr>\n",
       "      <th>4</th>\n",
       "      <td>NaN</td>\n",
       "      <td>NaN</td>\n",
       "      <td>NaN</td>\n",
       "      <td>NaN</td>\n",
       "      <td>NaN</td>\n",
       "      <td>NaN</td>\n",
       "      <td>NaN</td>\n",
       "      <td>NaN</td>\n",
       "      <td>4.0</td>\n",
       "      <td>ペットボトルに関する設問を 先に表示／男性／50-59歳</td>\n",
       "    </tr>\n",
       "    <tr>\n",
       "      <th>...</th>\n",
       "      <td>...</td>\n",
       "      <td>...</td>\n",
       "      <td>...</td>\n",
       "      <td>...</td>\n",
       "      <td>...</td>\n",
       "      <td>...</td>\n",
       "      <td>...</td>\n",
       "      <td>...</td>\n",
       "      <td>...</td>\n",
       "      <td>...</td>\n",
       "    </tr>\n",
       "    <tr>\n",
       "      <th>230</th>\n",
       "      <td>1;group～q12</td>\n",
       "      <td>CR</td>\n",
       "      <td>96.0</td>\n",
       "      <td>q12</td>\n",
       "      <td>Q12</td>\n",
       "      <td>あなたの環境問題への意識について、最も当てはまるものを１つだけお選びください。</td>\n",
       "      <td>SA</td>\n",
       "      <td>5.0</td>\n",
       "      <td>1.0</td>\n",
       "      <td>普段から環境問題を意識している</td>\n",
       "    </tr>\n",
       "    <tr>\n",
       "      <th>231</th>\n",
       "      <td>NaN</td>\n",
       "      <td>NaN</td>\n",
       "      <td>NaN</td>\n",
       "      <td>NaN</td>\n",
       "      <td>NaN</td>\n",
       "      <td>NaN</td>\n",
       "      <td>NaN</td>\n",
       "      <td>NaN</td>\n",
       "      <td>2.0</td>\n",
       "      <td>時々環境問題を意識している</td>\n",
       "    </tr>\n",
       "    <tr>\n",
       "      <th>232</th>\n",
       "      <td>NaN</td>\n",
       "      <td>NaN</td>\n",
       "      <td>NaN</td>\n",
       "      <td>NaN</td>\n",
       "      <td>NaN</td>\n",
       "      <td>NaN</td>\n",
       "      <td>NaN</td>\n",
       "      <td>NaN</td>\n",
       "      <td>3.0</td>\n",
       "      <td>たまに環境問題を意識することがある</td>\n",
       "    </tr>\n",
       "    <tr>\n",
       "      <th>233</th>\n",
       "      <td>NaN</td>\n",
       "      <td>NaN</td>\n",
       "      <td>NaN</td>\n",
       "      <td>NaN</td>\n",
       "      <td>NaN</td>\n",
       "      <td>NaN</td>\n",
       "      <td>NaN</td>\n",
       "      <td>NaN</td>\n",
       "      <td>4.0</td>\n",
       "      <td>あまり環境問題は意識することはない</td>\n",
       "    </tr>\n",
       "    <tr>\n",
       "      <th>234</th>\n",
       "      <td>NaN</td>\n",
       "      <td>NaN</td>\n",
       "      <td>NaN</td>\n",
       "      <td>NaN</td>\n",
       "      <td>NaN</td>\n",
       "      <td>NaN</td>\n",
       "      <td>NaN</td>\n",
       "      <td>NaN</td>\n",
       "      <td>5.0</td>\n",
       "      <td>全く環境問題は意識していない</td>\n",
       "    </tr>\n",
       "  </tbody>\n",
       "</table>\n",
       "<p>235 rows × 10 columns</p>\n",
       "</div>"
      ],
      "text/plain": [
       "            シート名  列番号  Unnamed: 2    ラベル    質問文  \\\n",
       "0    1;group～q12    A         1.0     no    NaN   \n",
       "1    1;group～q12    B         2.0  group  GROUP   \n",
       "2            NaN  NaN         NaN    NaN    NaN   \n",
       "3            NaN  NaN         NaN    NaN    NaN   \n",
       "4            NaN  NaN         NaN    NaN    NaN   \n",
       "..           ...  ...         ...    ...    ...   \n",
       "230  1;group～q12   CR        96.0    q12    Q12   \n",
       "231          NaN  NaN         NaN    NaN    NaN   \n",
       "232          NaN  NaN         NaN    NaN    NaN   \n",
       "233          NaN  NaN         NaN    NaN    NaN   \n",
       "234          NaN  NaN         NaN    NaN    NaN   \n",
       "\n",
       "                                  Unnamed: 5 質問_x000D_\\nタイプ  カテゴリ数  \\\n",
       "0                                        NaN            NaN    NaN   \n",
       "1                                       グループ             SA   20.0   \n",
       "2                                        NaN            NaN    NaN   \n",
       "3                                        NaN            NaN    NaN   \n",
       "4                                        NaN            NaN    NaN   \n",
       "..                                       ...            ...    ...   \n",
       "230  あなたの環境問題への意識について、最も当てはまるものを１つだけお選びください。             SA    5.0   \n",
       "231                                      NaN            NaN    NaN   \n",
       "232                                      NaN            NaN    NaN   \n",
       "233                                      NaN            NaN    NaN   \n",
       "234                                      NaN            NaN    NaN   \n",
       "\n",
       "     カテゴリ_x000D_\\nno                          カテゴリ  \n",
       "0                NaN                           NaN  \n",
       "1                1.0  ペットボトルに関する設問を 先に表示／男性／20-29歳  \n",
       "2                2.0  ペットボトルに関する設問を 先に表示／男性／30-39歳  \n",
       "3                3.0  ペットボトルに関する設問を 先に表示／男性／40-49歳  \n",
       "4                4.0  ペットボトルに関する設問を 先に表示／男性／50-59歳  \n",
       "..               ...                           ...  \n",
       "230              1.0               普段から環境問題を意識している  \n",
       "231              2.0                 時々環境問題を意識している  \n",
       "232              3.0             たまに環境問題を意識することがある  \n",
       "233              4.0             あまり環境問題は意識することはない  \n",
       "234              5.0                全く環境問題は意識していない  \n",
       "\n",
       "[235 rows x 10 columns]"
      ]
     },
     "execution_count": 9,
     "metadata": {},
     "output_type": "execute_result"
    }
   ],
   "source": [
    "sheetName_label = 'ﾗﾍﾞﾙ対応表'\n",
    "df_label = pd.read_excel('./【ローデータ・GT表】2209_リサイクルPET価値調査(2回目).xlsx', sheetName_label)\n",
    "df_label"
   ]
  },
  {
   "cell_type": "code",
   "execution_count": 7,
   "id": "8c894d5b-1079-4bb8-845f-8da389407f7b",
   "metadata": {},
   "outputs": [
    {
     "data": {
      "text/html": [
       "<div>\n",
       "<style scoped>\n",
       "    .dataframe tbody tr th:only-of-type {\n",
       "        vertical-align: middle;\n",
       "    }\n",
       "\n",
       "    .dataframe tbody tr th {\n",
       "        vertical-align: top;\n",
       "    }\n",
       "\n",
       "    .dataframe thead th {\n",
       "        text-align: right;\n",
       "    }\n",
       "</style>\n",
       "<table border=\"1\" class=\"dataframe\">\n",
       "  <thead>\n",
       "    <tr style=\"text-align: right;\">\n",
       "      <th></th>\n",
       "      <th>no</th>\n",
       "      <th>group</th>\n",
       "      <th>sc1</th>\n",
       "      <th>sc2_1</th>\n",
       "      <th>sc3</th>\n",
       "      <th>sc4</th>\n",
       "      <th>sc5</th>\n",
       "      <th>sc6</th>\n",
       "      <th>sc7-1</th>\n",
       "      <th>sc7-2</th>\n",
       "      <th>...</th>\n",
       "      <th>q10-16</th>\n",
       "      <th>q10-17</th>\n",
       "      <th>q10-18</th>\n",
       "      <th>q10-19</th>\n",
       "      <th>q10-20</th>\n",
       "      <th>q11_1</th>\n",
       "      <th>q11_2</th>\n",
       "      <th>q11_3</th>\n",
       "      <th>q11_4</th>\n",
       "      <th>q12</th>\n",
       "    </tr>\n",
       "  </thead>\n",
       "  <tbody>\n",
       "    <tr>\n",
       "      <th>0</th>\n",
       "      <td>1</td>\n",
       "      <td>7</td>\n",
       "      <td>2</td>\n",
       "      <td>39</td>\n",
       "      <td>42</td>\n",
       "      <td>2</td>\n",
       "      <td>2</td>\n",
       "      <td>11</td>\n",
       "      <td>0</td>\n",
       "      <td>0</td>\n",
       "      <td>...</td>\n",
       "      <td>0</td>\n",
       "      <td>0</td>\n",
       "      <td>0</td>\n",
       "      <td>0</td>\n",
       "      <td>0</td>\n",
       "      <td>4</td>\n",
       "      <td>4</td>\n",
       "      <td>3</td>\n",
       "      <td>4</td>\n",
       "      <td>4</td>\n",
       "    </tr>\n",
       "    <tr>\n",
       "      <th>1</th>\n",
       "      <td>2</td>\n",
       "      <td>3</td>\n",
       "      <td>1</td>\n",
       "      <td>46</td>\n",
       "      <td>43</td>\n",
       "      <td>1</td>\n",
       "      <td>1</td>\n",
       "      <td>1</td>\n",
       "      <td>0</td>\n",
       "      <td>0</td>\n",
       "      <td>...</td>\n",
       "      <td>0</td>\n",
       "      <td>0</td>\n",
       "      <td>0</td>\n",
       "      <td>0</td>\n",
       "      <td>0</td>\n",
       "      <td>4</td>\n",
       "      <td>4</td>\n",
       "      <td>4</td>\n",
       "      <td>4</td>\n",
       "      <td>4</td>\n",
       "    </tr>\n",
       "    <tr>\n",
       "      <th>2</th>\n",
       "      <td>3</td>\n",
       "      <td>2</td>\n",
       "      <td>1</td>\n",
       "      <td>36</td>\n",
       "      <td>14</td>\n",
       "      <td>1</td>\n",
       "      <td>3</td>\n",
       "      <td>13</td>\n",
       "      <td>0</td>\n",
       "      <td>0</td>\n",
       "      <td>...</td>\n",
       "      <td>0</td>\n",
       "      <td>0</td>\n",
       "      <td>0</td>\n",
       "      <td>0</td>\n",
       "      <td>0</td>\n",
       "      <td>4</td>\n",
       "      <td>4</td>\n",
       "      <td>4</td>\n",
       "      <td>4</td>\n",
       "      <td>4</td>\n",
       "    </tr>\n",
       "    <tr>\n",
       "      <th>3</th>\n",
       "      <td>4</td>\n",
       "      <td>2</td>\n",
       "      <td>1</td>\n",
       "      <td>38</td>\n",
       "      <td>11</td>\n",
       "      <td>1</td>\n",
       "      <td>3</td>\n",
       "      <td>10</td>\n",
       "      <td>0</td>\n",
       "      <td>0</td>\n",
       "      <td>...</td>\n",
       "      <td>0</td>\n",
       "      <td>0</td>\n",
       "      <td>0</td>\n",
       "      <td>0</td>\n",
       "      <td>1</td>\n",
       "      <td>3</td>\n",
       "      <td>3</td>\n",
       "      <td>3</td>\n",
       "      <td>3</td>\n",
       "      <td>5</td>\n",
       "    </tr>\n",
       "    <tr>\n",
       "      <th>4</th>\n",
       "      <td>5</td>\n",
       "      <td>13</td>\n",
       "      <td>1</td>\n",
       "      <td>46</td>\n",
       "      <td>13</td>\n",
       "      <td>1</td>\n",
       "      <td>1</td>\n",
       "      <td>5</td>\n",
       "      <td>0</td>\n",
       "      <td>0</td>\n",
       "      <td>...</td>\n",
       "      <td>0</td>\n",
       "      <td>0</td>\n",
       "      <td>0</td>\n",
       "      <td>0</td>\n",
       "      <td>0</td>\n",
       "      <td>3</td>\n",
       "      <td>3</td>\n",
       "      <td>3</td>\n",
       "      <td>3</td>\n",
       "      <td>4</td>\n",
       "    </tr>\n",
       "    <tr>\n",
       "      <th>...</th>\n",
       "      <td>...</td>\n",
       "      <td>...</td>\n",
       "      <td>...</td>\n",
       "      <td>...</td>\n",
       "      <td>...</td>\n",
       "      <td>...</td>\n",
       "      <td>...</td>\n",
       "      <td>...</td>\n",
       "      <td>...</td>\n",
       "      <td>...</td>\n",
       "      <td>...</td>\n",
       "      <td>...</td>\n",
       "      <td>...</td>\n",
       "      <td>...</td>\n",
       "      <td>...</td>\n",
       "      <td>...</td>\n",
       "      <td>...</td>\n",
       "      <td>...</td>\n",
       "      <td>...</td>\n",
       "      <td>...</td>\n",
       "      <td>...</td>\n",
       "    </tr>\n",
       "    <tr>\n",
       "      <th>495</th>\n",
       "      <td>496</td>\n",
       "      <td>15</td>\n",
       "      <td>1</td>\n",
       "      <td>64</td>\n",
       "      <td>36</td>\n",
       "      <td>2</td>\n",
       "      <td>2</td>\n",
       "      <td>5</td>\n",
       "      <td>0</td>\n",
       "      <td>0</td>\n",
       "      <td>...</td>\n",
       "      <td>1</td>\n",
       "      <td>0</td>\n",
       "      <td>0</td>\n",
       "      <td>0</td>\n",
       "      <td>0</td>\n",
       "      <td>3</td>\n",
       "      <td>3</td>\n",
       "      <td>3</td>\n",
       "      <td>3</td>\n",
       "      <td>3</td>\n",
       "    </tr>\n",
       "    <tr>\n",
       "      <th>496</th>\n",
       "      <td>497</td>\n",
       "      <td>20</td>\n",
       "      <td>2</td>\n",
       "      <td>60</td>\n",
       "      <td>13</td>\n",
       "      <td>1</td>\n",
       "      <td>1</td>\n",
       "      <td>1</td>\n",
       "      <td>0</td>\n",
       "      <td>0</td>\n",
       "      <td>...</td>\n",
       "      <td>0</td>\n",
       "      <td>0</td>\n",
       "      <td>0</td>\n",
       "      <td>0</td>\n",
       "      <td>0</td>\n",
       "      <td>2</td>\n",
       "      <td>4</td>\n",
       "      <td>4</td>\n",
       "      <td>4</td>\n",
       "      <td>2</td>\n",
       "    </tr>\n",
       "    <tr>\n",
       "      <th>497</th>\n",
       "      <td>498</td>\n",
       "      <td>15</td>\n",
       "      <td>1</td>\n",
       "      <td>66</td>\n",
       "      <td>12</td>\n",
       "      <td>2</td>\n",
       "      <td>3</td>\n",
       "      <td>13</td>\n",
       "      <td>0</td>\n",
       "      <td>0</td>\n",
       "      <td>...</td>\n",
       "      <td>0</td>\n",
       "      <td>0</td>\n",
       "      <td>0</td>\n",
       "      <td>0</td>\n",
       "      <td>1</td>\n",
       "      <td>3</td>\n",
       "      <td>3</td>\n",
       "      <td>3</td>\n",
       "      <td>3</td>\n",
       "      <td>5</td>\n",
       "    </tr>\n",
       "    <tr>\n",
       "      <th>498</th>\n",
       "      <td>499</td>\n",
       "      <td>5</td>\n",
       "      <td>1</td>\n",
       "      <td>65</td>\n",
       "      <td>6</td>\n",
       "      <td>2</td>\n",
       "      <td>3</td>\n",
       "      <td>13</td>\n",
       "      <td>0</td>\n",
       "      <td>0</td>\n",
       "      <td>...</td>\n",
       "      <td>0</td>\n",
       "      <td>0</td>\n",
       "      <td>0</td>\n",
       "      <td>1</td>\n",
       "      <td>0</td>\n",
       "      <td>3</td>\n",
       "      <td>3</td>\n",
       "      <td>3</td>\n",
       "      <td>3</td>\n",
       "      <td>3</td>\n",
       "    </tr>\n",
       "    <tr>\n",
       "      <th>499</th>\n",
       "      <td>500</td>\n",
       "      <td>15</td>\n",
       "      <td>1</td>\n",
       "      <td>66</td>\n",
       "      <td>16</td>\n",
       "      <td>2</td>\n",
       "      <td>3</td>\n",
       "      <td>10</td>\n",
       "      <td>0</td>\n",
       "      <td>0</td>\n",
       "      <td>...</td>\n",
       "      <td>0</td>\n",
       "      <td>0</td>\n",
       "      <td>0</td>\n",
       "      <td>0</td>\n",
       "      <td>1</td>\n",
       "      <td>3</td>\n",
       "      <td>3</td>\n",
       "      <td>3</td>\n",
       "      <td>3</td>\n",
       "      <td>5</td>\n",
       "    </tr>\n",
       "  </tbody>\n",
       "</table>\n",
       "<p>500 rows × 96 columns</p>\n",
       "</div>"
      ],
      "text/plain": [
       "      no  group  sc1  sc2_1  sc3  sc4  sc5  sc6  sc7-1  sc7-2  ...  q10-16  \\\n",
       "0      1      7    2     39   42    2    2   11      0      0  ...       0   \n",
       "1      2      3    1     46   43    1    1    1      0      0  ...       0   \n",
       "2      3      2    1     36   14    1    3   13      0      0  ...       0   \n",
       "3      4      2    1     38   11    1    3   10      0      0  ...       0   \n",
       "4      5     13    1     46   13    1    1    5      0      0  ...       0   \n",
       "..   ...    ...  ...    ...  ...  ...  ...  ...    ...    ...  ...     ...   \n",
       "495  496     15    1     64   36    2    2    5      0      0  ...       1   \n",
       "496  497     20    2     60   13    1    1    1      0      0  ...       0   \n",
       "497  498     15    1     66   12    2    3   13      0      0  ...       0   \n",
       "498  499      5    1     65    6    2    3   13      0      0  ...       0   \n",
       "499  500     15    1     66   16    2    3   10      0      0  ...       0   \n",
       "\n",
       "     q10-17  q10-18  q10-19  q10-20  q11_1  q11_2  q11_3  q11_4  q12  \n",
       "0         0       0       0       0      4      4      3      4    4  \n",
       "1         0       0       0       0      4      4      4      4    4  \n",
       "2         0       0       0       0      4      4      4      4    4  \n",
       "3         0       0       0       1      3      3      3      3    5  \n",
       "4         0       0       0       0      3      3      3      3    4  \n",
       "..      ...     ...     ...     ...    ...    ...    ...    ...  ...  \n",
       "495       0       0       0       0      3      3      3      3    3  \n",
       "496       0       0       0       0      2      4      4      4    2  \n",
       "497       0       0       0       1      3      3      3      3    5  \n",
       "498       0       0       1       0      3      3      3      3    3  \n",
       "499       0       0       0       1      3      3      3      3    5  \n",
       "\n",
       "[500 rows x 96 columns]"
      ]
     },
     "execution_count": 7,
     "metadata": {},
     "output_type": "execute_result"
    }
   ],
   "source": [
    "sheetName = '1;group～q12'\n",
    "df = pd.read_excel('./【ローデータ・GT表】2209_リサイクルPET価値調査(2回目).xlsx', sheetName)\n",
    "df"
   ]
  },
  {
   "cell_type": "code",
   "execution_count": null,
   "id": "9419bf29-7487-42ab-a50e-520a509d8979",
   "metadata": {},
   "outputs": [],
   "source": []
  },
  {
   "cell_type": "code",
   "execution_count": null,
   "id": "45618086-5df9-4755-9aee-9d8fab14d0a1",
   "metadata": {},
   "outputs": [],
   "source": []
  },
  {
   "cell_type": "markdown",
   "id": "54bba915-50ff-43c4-b242-8502dd564074",
   "metadata": {},
   "source": [
    "# explore important values"
   ]
  },
  {
   "cell_type": "markdown",
   "id": "810180d8-3007-48bb-b987-54d8fbfa99c9",
   "metadata": {},
   "source": [
    "## [q3] RペットとVペットの選好\n",
    "\n",
    "1 \tＰ：リサイクル素材でできたもの  \n",
    "2 \tどちらかといえばＰ：リサイクル素材でできたもの  \n",
    "3 \tどちらでもかまわない  \n",
    "4 \tどちらかといえばＱ：従来の素材でできたもの  \n",
    "5 \tＱ：従来の素材でできたもの!  "
   ]
  },
  {
   "cell_type": "code",
   "execution_count": 63,
   "id": "f76b7b18-cd43-4268-bdef-b186a47f4e31",
   "metadata": {},
   "outputs": [
    {
     "data": {
      "text/html": [
       "<div>\n",
       "<style scoped>\n",
       "    .dataframe tbody tr th:only-of-type {\n",
       "        vertical-align: middle;\n",
       "    }\n",
       "\n",
       "    .dataframe tbody tr th {\n",
       "        vertical-align: top;\n",
       "    }\n",
       "\n",
       "    .dataframe thead th {\n",
       "        text-align: right;\n",
       "    }\n",
       "</style>\n",
       "<table border=\"1\" class=\"dataframe\">\n",
       "  <thead>\n",
       "    <tr style=\"text-align: right;\">\n",
       "      <th></th>\n",
       "      <th>count</th>\n",
       "      <th>%</th>\n",
       "    </tr>\n",
       "  </thead>\n",
       "  <tbody>\n",
       "    <tr>\n",
       "      <th>1</th>\n",
       "      <td>87</td>\n",
       "      <td>17.4</td>\n",
       "    </tr>\n",
       "    <tr>\n",
       "      <th>2</th>\n",
       "      <td>101</td>\n",
       "      <td>20.2</td>\n",
       "    </tr>\n",
       "    <tr>\n",
       "      <th>3</th>\n",
       "      <td>288</td>\n",
       "      <td>57.6</td>\n",
       "    </tr>\n",
       "    <tr>\n",
       "      <th>4</th>\n",
       "      <td>9</td>\n",
       "      <td>1.8</td>\n",
       "    </tr>\n",
       "    <tr>\n",
       "      <th>5</th>\n",
       "      <td>15</td>\n",
       "      <td>3.0</td>\n",
       "    </tr>\n",
       "  </tbody>\n",
       "</table>\n",
       "</div>"
      ],
      "text/plain": [
       "   count     %\n",
       "1     87  17.4\n",
       "2    101  20.2\n",
       "3    288  57.6\n",
       "4      9   1.8\n",
       "5     15   3.0"
      ]
     },
     "execution_count": 63,
     "metadata": {},
     "output_type": "execute_result"
    }
   ],
   "source": [
    "tmp = df['q3'].value_counts().sort_index()\n",
    "tmp_ratio = df['q3'].value_counts(normalize=True).sort_index()\n",
    "pd.DataFrame({\"count\":tmp,\"%\":tmp_ratio*100})"
   ]
  },
  {
   "cell_type": "code",
   "execution_count": 160,
   "id": "8cf9479e-f140-4df7-a0a8-19cbd1e2bac1",
   "metadata": {},
   "outputs": [
    {
     "data": {
      "text/plain": [
       "37.599999999999994"
      ]
     },
     "execution_count": 160,
     "metadata": {},
     "output_type": "execute_result"
    }
   ],
   "source": [
    "17.4+20.2"
   ]
  },
  {
   "cell_type": "code",
   "execution_count": 182,
   "id": "4947c273-697d-4a90-8f01-fa9118a55668",
   "metadata": {},
   "outputs": [
    {
     "data": {
      "text/plain": [
       "<AxesSubplot: title={'center': 'preference: R pet or V pet'}, xlabel='Answer', ylabel='Frequency'>"
      ]
     },
     "execution_count": 182,
     "metadata": {},
     "output_type": "execute_result"
    },
    {
     "data": {
      "image/png": "[encoded data removed]",
      "text/plain": [
       "<Figure size 432x288 with 1 Axes>"
      ]
     },
     "metadata": {
      "needs_background": "light"
     },
     "output_type": "display_data"
    }
   ],
   "source": [
    "# RペットとVペットの選好\n",
    "\n",
    "df['q3'].value_counts().sort_index().plot(\n",
    "    kind = 'bar',\n",
    "    title = 'preference: R pet or V pet',\n",
    "    ylabel = 'Frequency',\n",
    "    xlabel = 'Answer',\n",
    "    grid = True\n",
    ")"
   ]
  },
  {
   "cell_type": "code",
   "execution_count": 183,
   "id": "1e05da95-f9f6-41f8-b4b8-8e20167aad07",
   "metadata": {},
   "outputs": [
    {
     "data": {
      "text/plain": [
       "<AxesSubplot: title={'center': 'preference: R pet or V pet'}, ylabel='Frequency'>"
      ]
     },
     "execution_count": 183,
     "metadata": {},
     "output_type": "execute_result"
    },
    {
     "data": {
      "image/png": "[encoded data removed]",
      "text/plain": [
       "<Figure size 432x288 with 1 Axes>"
      ]
     },
     "metadata": {},
     "output_type": "display_data"
    }
   ],
   "source": [
    "df['q3'].value_counts().sort_index().plot(\n",
    "    kind = 'pie',\n",
    "    title = 'preference: R pet or V pet',\n",
    "    ylabel = 'Frequency',\n",
    "    xlabel = 'Answer',\n",
    "    grid = True\n",
    ")"
   ]
  },
  {
   "cell_type": "code",
   "execution_count": null,
   "id": "3029e3fd-20a1-4868-8a7e-8be601b72ef7",
   "metadata": {},
   "outputs": [],
   "source": []
  },
  {
   "cell_type": "markdown",
   "id": "550bcb82-976e-491c-a787-07acb6296894",
   "metadata": {},
   "source": [
    "### [q4_1]Rペットに対する金銭的価値\n",
    "\n",
    "前問で選んだものが選ばなかったものよりいくら高くなった時、選ばなかった方を選びますか。   \n",
    "／【Ｐ：リサイクル素材でできたもの】が【Ｑ：従来の素材でできたもの】よりも／円高くなれば【Ｑ：従来の素材でできたもの】を選ぶ"
   ]
  },
  {
   "cell_type": "code",
   "execution_count": 184,
   "id": "f8d776be-ff23-4b23-8d76-0c9d7c03c859",
   "metadata": {},
   "outputs": [
    {
     "data": {
      "text/plain": [
       "<AxesSubplot: title={'center': 'virtual value of R pet'}, xlabel='amount', ylabel='Frequency'>"
      ]
     },
     "execution_count": 184,
     "metadata": {},
     "output_type": "execute_result"
    },
    {
     "data": {
      "image/png": "[encoded data removed]",
      "text/plain": [
       "<Figure size 432x288 with 1 Axes>"
      ]
     },
     "metadata": {
      "needs_background": "light"
     },
     "output_type": "display_data"
    }
   ],
   "source": [
    "df['q4_1'].value_counts().sort_index().plot(\n",
    "    kind = 'bar',\n",
    "    title = 'virtual value of R pet',\n",
    "    ylabel = 'Frequency',\n",
    "    xlabel = 'amount',\n",
    "    grid = True\n",
    ")"
   ]
  },
  {
   "cell_type": "code",
   "execution_count": 194,
   "id": "4e172b83-6083-4cb5-8797-3748474c913f",
   "metadata": {},
   "outputs": [
    {
     "name": "stdout",
     "output_type": "stream",
     "text": [
      "<class 'pandas.core.series.Series'>\n",
      "RangeIndex: 500 entries, 0 to 499\n",
      "Series name: q4_1\n",
      "Non-Null Count  Dtype  \n",
      "--------------  -----  \n",
      "188 non-null    float64\n",
      "dtypes: float64(1)\n",
      "memory usage: 4.0 KB\n"
     ]
    }
   ],
   "source": [
    "df['q4_1'].info()"
   ]
  },
  {
   "cell_type": "code",
   "execution_count": 189,
   "id": "30d2bf32-637a-4694-b417-fe9b441de9c5",
   "metadata": {},
   "outputs": [
    {
     "data": {
      "text/plain": [
       "1.0        3.723404\n",
       "2.0        0.531915\n",
       "3.0        0.531915\n",
       "4.0        0.531915\n",
       "5.0        3.191489\n",
       "6.0        0.531915\n",
       "10.0      21.276596\n",
       "20.0      10.106383\n",
       "30.0       8.510638\n",
       "40.0       0.531915\n",
       "50.0      14.893617\n",
       "100.0     14.893617\n",
       "150.0      0.531915\n",
       "200.0      4.255319\n",
       "300.0      2.127660\n",
       "500.0      5.319149\n",
       "800.0      0.531915\n",
       "859.0      0.531915\n",
       "1000.0     7.446809\n",
       "Name: q4_1, dtype: float64"
      ]
     },
     "execution_count": 189,
     "metadata": {},
     "output_type": "execute_result"
    }
   ],
   "source": [
    "df['q4_1'].value_counts(normalize=True).sort_index()*100"
   ]
  },
  {
   "cell_type": "code",
   "execution_count": 190,
   "id": "c0d12e03-1779-4ba9-a716-6c63dd11308b",
   "metadata": {},
   "outputs": [
    {
     "data": {
      "text/plain": [
       "70.1"
      ]
     },
     "execution_count": 190,
     "metadata": {},
     "output_type": "execute_result"
    }
   ],
   "source": [
    "# 10~100円までの割合\n",
    "21.2 +10.1 + 8.5 + 0.5 + 14.9 + 14.9"
   ]
  },
  {
   "cell_type": "code",
   "execution_count": null,
   "id": "2cd93bb4-e31d-4616-a0ee-286f42ea52b1",
   "metadata": {},
   "outputs": [],
   "source": []
  },
  {
   "cell_type": "code",
   "execution_count": null,
   "id": "3b3f09ee-064c-4df3-899d-8006d5d94e4b",
   "metadata": {},
   "outputs": [],
   "source": []
  },
  {
   "cell_type": "code",
   "execution_count": null,
   "id": "c2a6616b-1c3c-4e84-afab-1a0705e26888",
   "metadata": {},
   "outputs": [],
   "source": []
  },
  {
   "cell_type": "markdown",
   "id": "2c46f93b-f031-45db-ad6a-b8dd59db8ae8",
   "metadata": {},
   "source": [
    "### [q8] RシャッツとVシャツの選好\n",
    "\n",
    "1 \tＰ：リサイクル素材でできたもの  \n",
    "2 \tどちらかといえばＰ：リサイクル素材でできたもの　　  \n",
    "3 \tどちらでもかまわない　　  \n",
    "4 \tどちらかといえばＱ：従来の素材でできたもの　　  \n",
    "5 \tＱ：従来の素材でできたもの　　  "
   ]
  },
  {
   "cell_type": "code",
   "execution_count": 64,
   "id": "35107128-3150-4cf5-8c8e-5041404be5ad",
   "metadata": {},
   "outputs": [
    {
     "data": {
      "text/html": [
       "<div>\n",
       "<style scoped>\n",
       "    .dataframe tbody tr th:only-of-type {\n",
       "        vertical-align: middle;\n",
       "    }\n",
       "\n",
       "    .dataframe tbody tr th {\n",
       "        vertical-align: top;\n",
       "    }\n",
       "\n",
       "    .dataframe thead th {\n",
       "        text-align: right;\n",
       "    }\n",
       "</style>\n",
       "<table border=\"1\" class=\"dataframe\">\n",
       "  <thead>\n",
       "    <tr style=\"text-align: right;\">\n",
       "      <th></th>\n",
       "      <th>count</th>\n",
       "      <th>%</th>\n",
       "    </tr>\n",
       "  </thead>\n",
       "  <tbody>\n",
       "    <tr>\n",
       "      <th>1</th>\n",
       "      <td>62</td>\n",
       "      <td>12.4</td>\n",
       "    </tr>\n",
       "    <tr>\n",
       "      <th>2</th>\n",
       "      <td>60</td>\n",
       "      <td>12.0</td>\n",
       "    </tr>\n",
       "    <tr>\n",
       "      <th>3</th>\n",
       "      <td>299</td>\n",
       "      <td>59.8</td>\n",
       "    </tr>\n",
       "    <tr>\n",
       "      <th>4</th>\n",
       "      <td>39</td>\n",
       "      <td>7.8</td>\n",
       "    </tr>\n",
       "    <tr>\n",
       "      <th>5</th>\n",
       "      <td>40</td>\n",
       "      <td>8.0</td>\n",
       "    </tr>\n",
       "  </tbody>\n",
       "</table>\n",
       "</div>"
      ],
      "text/plain": [
       "   count     %\n",
       "1     62  12.4\n",
       "2     60  12.0\n",
       "3    299  59.8\n",
       "4     39   7.8\n",
       "5     40   8.0"
      ]
     },
     "execution_count": 64,
     "metadata": {},
     "output_type": "execute_result"
    }
   ],
   "source": [
    "tmp = df['q8'].value_counts().sort_index()\n",
    "tmp_ratio = df['q8'].value_counts(normalize=True).sort_index()\n",
    "pd.DataFrame({\"count\":tmp,\"%\":tmp_ratio*100})"
   ]
  },
  {
   "cell_type": "code",
   "execution_count": 185,
   "id": "39098232-0534-4227-a0c3-564e20984c66",
   "metadata": {},
   "outputs": [
    {
     "data": {
      "text/plain": [
       "<AxesSubplot: title={'center': 'preference: R t-shirt or V t-shirt'}, xlabel='Answer', ylabel='Frequency'>"
      ]
     },
     "execution_count": 185,
     "metadata": {},
     "output_type": "execute_result"
    },
    {
     "data": {
      "image/png": "[encoded data removed]",
      "text/plain": [
       "<Figure size 432x288 with 1 Axes>"
      ]
     },
     "metadata": {
      "needs_background": "light"
     },
     "output_type": "display_data"
    }
   ],
   "source": [
    "df['q8'].value_counts().sort_index().plot(\n",
    "    kind = 'bar',\n",
    "    title = 'preference: R t-shirt or V t-shirt',\n",
    "    ylabel = 'Frequency',\n",
    "    xlabel = 'Answer',\n",
    "    grid = True\n",
    ")"
   ]
  },
  {
   "cell_type": "code",
   "execution_count": 186,
   "id": "d260dc0d-ba32-485d-a909-b8e0442a8339",
   "metadata": {},
   "outputs": [
    {
     "data": {
      "text/plain": [
       "<AxesSubplot: title={'center': 'preference: R t-shirt or V t-shirt'}, ylabel='Frequency'>"
      ]
     },
     "execution_count": 186,
     "metadata": {},
     "output_type": "execute_result"
    },
    {
     "data": {
      "image/png": "[encoded data removed]",
      "text/plain": [
       "<Figure size 432x288 with 1 Axes>"
      ]
     },
     "metadata": {},
     "output_type": "display_data"
    }
   ],
   "source": [
    "df['q8'].value_counts().sort_index().plot(\n",
    "    kind = 'pie',\n",
    "    title = 'preference: R t-shirt or V t-shirt',\n",
    "    ylabel = 'Frequency',\n",
    "    xlabel = 'Answer',\n",
    "    grid = True\n",
    ")"
   ]
  },
  {
   "cell_type": "code",
   "execution_count": null,
   "id": "2fd2553e-b001-4ecd-9580-b8ce1fda43f9",
   "metadata": {},
   "outputs": [],
   "source": []
  },
  {
   "cell_type": "code",
   "execution_count": null,
   "id": "c42924a9-f688-4c20-bf03-d0f7def410ac",
   "metadata": {},
   "outputs": [],
   "source": []
  },
  {
   "cell_type": "markdown",
   "id": "29ee8d55-312d-4be5-b5ce-289245e8941a",
   "metadata": {},
   "source": [
    "### [q9_1]Rペットに対する金銭的価値\n",
    "\n",
    "前問で選んだものが選ばなかったものよりいくら高くなった時、選ばなかった方を選びますか。   \n",
    "／【Ｐ：リサイクル素材でできたもの】が【Ｑ：従来の素材でできたもの】よりも／円高くなれば【Ｑ：従来の素材でできたもの】を選ぶ"
   ]
  },
  {
   "cell_type": "code",
   "execution_count": 178,
   "id": "eb497447-81d6-4221-9332-163b30562ebe",
   "metadata": {},
   "outputs": [
    {
     "data": {
      "text/plain": [
       "<AxesSubplot: title={'center': 'virtual value of R t-shirt'}, xlabel='amount', ylabel='Frequency'>"
      ]
     },
     "execution_count": 178,
     "metadata": {},
     "output_type": "execute_result"
    },
    {
     "data": {
      "image/png": "[encoded data removed]",
      "text/plain": [
       "<Figure size 432x288 with 1 Axes>"
      ]
     },
     "metadata": {
      "needs_background": "light"
     },
     "output_type": "display_data"
    }
   ],
   "source": [
    "df['q9_1'].value_counts().sort_index().plot(\n",
    "    kind = 'bar',\n",
    "    title = 'virtual value of R t-shirt',\n",
    "    ylabel = 'Frequency',\n",
    "    xlabel = 'amount',\n",
    "    grid = True\n",
    ")"
   ]
  },
  {
   "cell_type": "code",
   "execution_count": 195,
   "id": "deec88b0-830a-4cac-92da-265f9268832f",
   "metadata": {},
   "outputs": [
    {
     "name": "stdout",
     "output_type": "stream",
     "text": [
      "<class 'pandas.core.series.Series'>\n",
      "RangeIndex: 500 entries, 0 to 499\n",
      "Series name: q9_1\n",
      "Non-Null Count  Dtype  \n",
      "--------------  -----  \n",
      "122 non-null    float64\n",
      "dtypes: float64(1)\n",
      "memory usage: 4.0 KB\n"
     ]
    }
   ],
   "source": [
    "df['q9_1'].info()"
   ]
  },
  {
   "cell_type": "code",
   "execution_count": 196,
   "id": "693fe0fa-a035-4c9e-bd3f-0c0c5a33a5d8",
   "metadata": {},
   "outputs": [
    {
     "data": {
      "text/plain": [
       "500.0     21.311475\n",
       "1000.0    20.491803\n",
       "100.0     15.573770\n",
       "300.0      7.377049\n",
       "10.0       6.557377\n",
       "1.0        4.918033\n",
       "200.0      3.278689\n",
       "2000.0     3.278689\n",
       "1500.0     2.459016\n",
       "50.0       2.459016\n",
       "5000.0     1.639344\n",
       "3.0        1.639344\n",
       "7000.0     0.819672\n",
       "6.0        0.819672\n",
       "508.0      0.819672\n",
       "150.0      0.819672\n",
       "20.0       0.819672\n",
       "8588.0     0.819672\n",
       "15.0       0.819672\n",
       "2.0        0.819672\n",
       "2500.0     0.819672\n",
       "4.0        0.819672\n",
       "5.0        0.819672\n",
       "Name: q9_1, dtype: float64"
      ]
     },
     "execution_count": 196,
     "metadata": {},
     "output_type": "execute_result"
    }
   ],
   "source": [
    "df['q9_1'].value_counts(normalize=True)*100"
   ]
  },
  {
   "cell_type": "code",
   "execution_count": null,
   "id": "b8e266a6-f3dd-4fbc-a3fd-41c9c5ca87f6",
   "metadata": {},
   "outputs": [],
   "source": []
  },
  {
   "cell_type": "code",
   "execution_count": null,
   "id": "0e63926a-eeb5-4f65-a2d0-d96dd3f793ae",
   "metadata": {},
   "outputs": [],
   "source": []
  },
  {
   "cell_type": "markdown",
   "id": "d5a503cd-a63e-4e02-8323-1afb47a22bc8",
   "metadata": {},
   "source": [
    "### [q3] & [q8]: 各製品でのR/V選好の重複を見る"
   ]
  },
  {
   "cell_type": "code",
   "execution_count": 116,
   "id": "6f247e40-1925-4624-96b0-6ebfb79551c6",
   "metadata": {},
   "outputs": [
    {
     "data": {
      "text/html": [
       "<div>\n",
       "<style scoped>\n",
       "    .dataframe tbody tr th:only-of-type {\n",
       "        vertical-align: middle;\n",
       "    }\n",
       "\n",
       "    .dataframe tbody tr th {\n",
       "        vertical-align: top;\n",
       "    }\n",
       "\n",
       "    .dataframe thead th {\n",
       "        text-align: right;\n",
       "    }\n",
       "</style>\n",
       "<table border=\"1\" class=\"dataframe\">\n",
       "  <thead>\n",
       "    <tr style=\"text-align: right;\">\n",
       "      <th>t-shirt</th>\n",
       "      <th>1</th>\n",
       "      <th>2</th>\n",
       "      <th>3</th>\n",
       "      <th>4</th>\n",
       "      <th>5</th>\n",
       "    </tr>\n",
       "    <tr>\n",
       "      <th>pet bottle</th>\n",
       "      <th></th>\n",
       "      <th></th>\n",
       "      <th></th>\n",
       "      <th></th>\n",
       "      <th></th>\n",
       "    </tr>\n",
       "  </thead>\n",
       "  <tbody>\n",
       "    <tr>\n",
       "      <th>1</th>\n",
       "      <td>39</td>\n",
       "      <td>13</td>\n",
       "      <td>26</td>\n",
       "      <td>4</td>\n",
       "      <td>5</td>\n",
       "    </tr>\n",
       "    <tr>\n",
       "      <th>2</th>\n",
       "      <td>15</td>\n",
       "      <td>35</td>\n",
       "      <td>37</td>\n",
       "      <td>11</td>\n",
       "      <td>3</td>\n",
       "    </tr>\n",
       "    <tr>\n",
       "      <th>3</th>\n",
       "      <td>7</td>\n",
       "      <td>10</td>\n",
       "      <td>231</td>\n",
       "      <td>19</td>\n",
       "      <td>21</td>\n",
       "    </tr>\n",
       "    <tr>\n",
       "      <th>4</th>\n",
       "      <td>0</td>\n",
       "      <td>0</td>\n",
       "      <td>3</td>\n",
       "      <td>2</td>\n",
       "      <td>4</td>\n",
       "    </tr>\n",
       "    <tr>\n",
       "      <th>5</th>\n",
       "      <td>1</td>\n",
       "      <td>2</td>\n",
       "      <td>2</td>\n",
       "      <td>3</td>\n",
       "      <td>7</td>\n",
       "    </tr>\n",
       "  </tbody>\n",
       "</table>\n",
       "</div>"
      ],
      "text/plain": [
       "t-shirt      1   2    3   4   5\n",
       "pet bottle                     \n",
       "1           39  13   26   4   5\n",
       "2           15  35   37  11   3\n",
       "3            7  10  231  19  21\n",
       "4            0   0    3   2   4\n",
       "5            1   2    2   3   7"
      ]
     },
     "execution_count": 116,
     "metadata": {},
     "output_type": "execute_result"
    }
   ],
   "source": [
    "pd.crosstab(df['q3'], df['q8'], colnames=[\"t-shirt\"], rownames=[\"pet bottle\"])"
   ]
  },
  {
   "cell_type": "code",
   "execution_count": 114,
   "id": "c4ffb55d-6a17-4b19-b798-1041a8d9fa3c",
   "metadata": {},
   "outputs": [
    {
     "data": {
      "text/html": [
       "<div>\n",
       "<style scoped>\n",
       "    .dataframe tbody tr th:only-of-type {\n",
       "        vertical-align: middle;\n",
       "    }\n",
       "\n",
       "    .dataframe tbody tr th {\n",
       "        vertical-align: top;\n",
       "    }\n",
       "\n",
       "    .dataframe thead th {\n",
       "        text-align: right;\n",
       "    }\n",
       "</style>\n",
       "<table border=\"1\" class=\"dataframe\">\n",
       "  <thead>\n",
       "    <tr style=\"text-align: right;\">\n",
       "      <th>t-shirt</th>\n",
       "      <th>1</th>\n",
       "      <th>2</th>\n",
       "      <th>3</th>\n",
       "      <th>4</th>\n",
       "      <th>5</th>\n",
       "    </tr>\n",
       "    <tr>\n",
       "      <th>pet bottle</th>\n",
       "      <th></th>\n",
       "      <th></th>\n",
       "      <th></th>\n",
       "      <th></th>\n",
       "      <th></th>\n",
       "    </tr>\n",
       "  </thead>\n",
       "  <tbody>\n",
       "    <tr>\n",
       "      <th>1</th>\n",
       "      <td>7.8</td>\n",
       "      <td>2.6</td>\n",
       "      <td>5.2</td>\n",
       "      <td>0.8</td>\n",
       "      <td>1.0</td>\n",
       "    </tr>\n",
       "    <tr>\n",
       "      <th>2</th>\n",
       "      <td>3.0</td>\n",
       "      <td>7.0</td>\n",
       "      <td>7.4</td>\n",
       "      <td>2.2</td>\n",
       "      <td>0.6</td>\n",
       "    </tr>\n",
       "    <tr>\n",
       "      <th>3</th>\n",
       "      <td>1.4</td>\n",
       "      <td>2.0</td>\n",
       "      <td>46.2</td>\n",
       "      <td>3.8</td>\n",
       "      <td>4.2</td>\n",
       "    </tr>\n",
       "    <tr>\n",
       "      <th>4</th>\n",
       "      <td>0.0</td>\n",
       "      <td>0.0</td>\n",
       "      <td>0.6</td>\n",
       "      <td>0.4</td>\n",
       "      <td>0.8</td>\n",
       "    </tr>\n",
       "    <tr>\n",
       "      <th>5</th>\n",
       "      <td>0.2</td>\n",
       "      <td>0.4</td>\n",
       "      <td>0.4</td>\n",
       "      <td>0.6</td>\n",
       "      <td>1.4</td>\n",
       "    </tr>\n",
       "  </tbody>\n",
       "</table>\n",
       "</div>"
      ],
      "text/plain": [
       "t-shirt       1    2     3    4    5\n",
       "pet bottle                          \n",
       "1           7.8  2.6   5.2  0.8  1.0\n",
       "2           3.0  7.0   7.4  2.2  0.6\n",
       "3           1.4  2.0  46.2  3.8  4.2\n",
       "4           0.0  0.0   0.6  0.4  0.8\n",
       "5           0.2  0.4   0.4  0.6  1.4"
      ]
     },
     "execution_count": 114,
     "metadata": {},
     "output_type": "execute_result"
    }
   ],
   "source": [
    "# percentage in all\n",
    "pd.crosstab(df['q3'], df['q8'], colnames=[\"t-shirt\"], rownames=[\"pet bottle\"], normalize=\"all\")*100"
   ]
  },
  {
   "cell_type": "code",
   "execution_count": 113,
   "id": "cb8d3dd0-2fae-409e-91c1-7b3171884602",
   "metadata": {},
   "outputs": [
    {
     "data": {
      "text/html": [
       "<div>\n",
       "<style scoped>\n",
       "    .dataframe tbody tr th:only-of-type {\n",
       "        vertical-align: middle;\n",
       "    }\n",
       "\n",
       "    .dataframe tbody tr th {\n",
       "        vertical-align: top;\n",
       "    }\n",
       "\n",
       "    .dataframe thead th {\n",
       "        text-align: right;\n",
       "    }\n",
       "</style>\n",
       "<table border=\"1\" class=\"dataframe\">\n",
       "  <thead>\n",
       "    <tr style=\"text-align: right;\">\n",
       "      <th>t-shirt</th>\n",
       "      <th>1</th>\n",
       "      <th>2</th>\n",
       "      <th>3</th>\n",
       "      <th>4</th>\n",
       "      <th>5</th>\n",
       "    </tr>\n",
       "    <tr>\n",
       "      <th>pet bottle</th>\n",
       "      <th></th>\n",
       "      <th></th>\n",
       "      <th></th>\n",
       "      <th></th>\n",
       "      <th></th>\n",
       "    </tr>\n",
       "  </thead>\n",
       "  <tbody>\n",
       "    <tr>\n",
       "      <th>1</th>\n",
       "      <td>44.827586</td>\n",
       "      <td>14.942529</td>\n",
       "      <td>29.885057</td>\n",
       "      <td>4.597701</td>\n",
       "      <td>5.747126</td>\n",
       "    </tr>\n",
       "    <tr>\n",
       "      <th>2</th>\n",
       "      <td>14.851485</td>\n",
       "      <td>34.653465</td>\n",
       "      <td>36.633663</td>\n",
       "      <td>10.891089</td>\n",
       "      <td>2.970297</td>\n",
       "    </tr>\n",
       "    <tr>\n",
       "      <th>3</th>\n",
       "      <td>2.430556</td>\n",
       "      <td>3.472222</td>\n",
       "      <td>80.208333</td>\n",
       "      <td>6.597222</td>\n",
       "      <td>7.291667</td>\n",
       "    </tr>\n",
       "    <tr>\n",
       "      <th>4</th>\n",
       "      <td>0.000000</td>\n",
       "      <td>0.000000</td>\n",
       "      <td>33.333333</td>\n",
       "      <td>22.222222</td>\n",
       "      <td>44.444444</td>\n",
       "    </tr>\n",
       "    <tr>\n",
       "      <th>5</th>\n",
       "      <td>6.666667</td>\n",
       "      <td>13.333333</td>\n",
       "      <td>13.333333</td>\n",
       "      <td>20.000000</td>\n",
       "      <td>46.666667</td>\n",
       "    </tr>\n",
       "  </tbody>\n",
       "</table>\n",
       "</div>"
      ],
      "text/plain": [
       "t-shirt             1          2          3          4          5\n",
       "pet bottle                                                       \n",
       "1           44.827586  14.942529  29.885057   4.597701   5.747126\n",
       "2           14.851485  34.653465  36.633663  10.891089   2.970297\n",
       "3            2.430556   3.472222  80.208333   6.597222   7.291667\n",
       "4            0.000000   0.000000  33.333333  22.222222  44.444444\n",
       "5            6.666667  13.333333  13.333333  20.000000  46.666667"
      ]
     },
     "execution_count": 113,
     "metadata": {},
     "output_type": "execute_result"
    }
   ],
   "source": [
    "# percentage in row\n",
    "pd.crosstab(df['q3'], df['q8'], colnames=[\"t-shirt\"], rownames=[\"pet bottle\"], normalize=\"index\")*100"
   ]
  },
  {
   "cell_type": "code",
   "execution_count": 112,
   "id": "eaa2bb05-43d5-4ab9-b6db-7f3d7675bb70",
   "metadata": {},
   "outputs": [
    {
     "data": {
      "text/html": [
       "<div>\n",
       "<style scoped>\n",
       "    .dataframe tbody tr th:only-of-type {\n",
       "        vertical-align: middle;\n",
       "    }\n",
       "\n",
       "    .dataframe tbody tr th {\n",
       "        vertical-align: top;\n",
       "    }\n",
       "\n",
       "    .dataframe thead th {\n",
       "        text-align: right;\n",
       "    }\n",
       "</style>\n",
       "<table border=\"1\" class=\"dataframe\">\n",
       "  <thead>\n",
       "    <tr style=\"text-align: right;\">\n",
       "      <th>t-shirt</th>\n",
       "      <th>1</th>\n",
       "      <th>2</th>\n",
       "      <th>3</th>\n",
       "      <th>4</th>\n",
       "      <th>5</th>\n",
       "    </tr>\n",
       "    <tr>\n",
       "      <th>pet bottle</th>\n",
       "      <th></th>\n",
       "      <th></th>\n",
       "      <th></th>\n",
       "      <th></th>\n",
       "      <th></th>\n",
       "    </tr>\n",
       "  </thead>\n",
       "  <tbody>\n",
       "    <tr>\n",
       "      <th>1</th>\n",
       "      <td>62.903226</td>\n",
       "      <td>21.666667</td>\n",
       "      <td>8.695652</td>\n",
       "      <td>10.256410</td>\n",
       "      <td>12.5</td>\n",
       "    </tr>\n",
       "    <tr>\n",
       "      <th>2</th>\n",
       "      <td>24.193548</td>\n",
       "      <td>58.333333</td>\n",
       "      <td>12.374582</td>\n",
       "      <td>28.205128</td>\n",
       "      <td>7.5</td>\n",
       "    </tr>\n",
       "    <tr>\n",
       "      <th>3</th>\n",
       "      <td>11.290323</td>\n",
       "      <td>16.666667</td>\n",
       "      <td>77.257525</td>\n",
       "      <td>48.717949</td>\n",
       "      <td>52.5</td>\n",
       "    </tr>\n",
       "    <tr>\n",
       "      <th>4</th>\n",
       "      <td>0.000000</td>\n",
       "      <td>0.000000</td>\n",
       "      <td>1.003344</td>\n",
       "      <td>5.128205</td>\n",
       "      <td>10.0</td>\n",
       "    </tr>\n",
       "    <tr>\n",
       "      <th>5</th>\n",
       "      <td>1.612903</td>\n",
       "      <td>3.333333</td>\n",
       "      <td>0.668896</td>\n",
       "      <td>7.692308</td>\n",
       "      <td>17.5</td>\n",
       "    </tr>\n",
       "  </tbody>\n",
       "</table>\n",
       "</div>"
      ],
      "text/plain": [
       "t-shirt             1          2          3          4     5\n",
       "pet bottle                                                  \n",
       "1           62.903226  21.666667   8.695652  10.256410  12.5\n",
       "2           24.193548  58.333333  12.374582  28.205128   7.5\n",
       "3           11.290323  16.666667  77.257525  48.717949  52.5\n",
       "4            0.000000   0.000000   1.003344   5.128205  10.0\n",
       "5            1.612903   3.333333   0.668896   7.692308  17.5"
      ]
     },
     "execution_count": 112,
     "metadata": {},
     "output_type": "execute_result"
    }
   ],
   "source": [
    "# percentage in column\n",
    "pd.crosstab(df['q3'], df['q8'], colnames=[\"t-shirt\"], rownames=[\"pet bottle\"], normalize=\"columns\")*100"
   ]
  },
  {
   "cell_type": "code",
   "execution_count": 155,
   "id": "44a1ffd8-ee8c-4ce2-9631-0ca29044ac59",
   "metadata": {},
   "outputs": [
    {
     "data": {
      "text/plain": [
       "[<matplotlib.patches.Circle at 0xffff61d84070>,\n",
       " <matplotlib.patches.Circle at 0xffff61f3a170>]"
      ]
     },
     "execution_count": 156,
     "metadata": {},
     "output_type": "execute_result"
    },
    {
     "data": {
      "image/png": "[encoded data removed]",
      "text/plain": [
       "<Figure size 432x288 with 1 Axes>"
      ]
     },
     "metadata": {},
     "output_type": "display_data"
    }
   ],
   "source": [
    "plt.title('number of people answered 1 or 2');\n",
    "\n",
    "# どちらもR選好（1or2）\n",
    "both_r = 39+13+15+35\n",
    "# Petに対してR選好（1 or 2）\n",
    "pet_r = 87+101\n",
    "# Tシャツに対しててR選好（1 or 2）\n",
    "shirt_r = 62 + 60\n",
    "\n",
    "venn2(\n",
    "    subsets=(pet_r-both_r, shirt_r-both_r, both_r),\n",
    "    set_labels = ('R pet prefer', 'R t-shirt prefer')\n",
    ")\n",
    "\n",
    "venn2_circles(\n",
    "    subsets=(pet_r-both_r, shirt_r-both_r, both_r),\n",
    "    linestyle = 'solid'\n",
    ")"
   ]
  },
  {
   "cell_type": "code",
   "execution_count": 216,
   "id": "988aff8f-1697-4a71-9c22-8579f9428f5e",
   "metadata": {},
   "outputs": [
    {
     "data": {
      "text/plain": [
       "83.60655737704919"
      ]
     },
     "execution_count": 216,
     "metadata": {},
     "output_type": "execute_result"
    }
   ],
   "source": [
    "# Aグループ内での重複者の割合\n",
    "102/(102+20)*100"
   ]
  },
  {
   "cell_type": "code",
   "execution_count": 217,
   "id": "67308f71-e3f1-4fd8-b59c-54d710cc56c1",
   "metadata": {},
   "outputs": [
    {
     "data": {
      "text/plain": [
       "54.25531914893617"
      ]
     },
     "execution_count": 217,
     "metadata": {},
     "output_type": "execute_result"
    }
   ],
   "source": [
    "# Bグループ内での重複者の割合\n",
    "102/(86+102)*100"
   ]
  },
  {
   "cell_type": "code",
   "execution_count": 218,
   "id": "f833e199-4880-459d-8481-766ab2b65370",
   "metadata": {},
   "outputs": [
    {
     "data": {
      "text/plain": [
       "208"
      ]
     },
     "execution_count": 218,
     "metadata": {},
     "output_type": "execute_result"
    }
   ],
   "source": [
    "86+102+20"
   ]
  },
  {
   "cell_type": "code",
   "execution_count": null,
   "id": "52cf7f96-a752-4f09-8aa0-db90f67d4f7f",
   "metadata": {},
   "outputs": [],
   "source": []
  },
  {
   "cell_type": "code",
   "execution_count": null,
   "id": "969ee82f-9392-4d61-a059-f3195316757d",
   "metadata": {},
   "outputs": [],
   "source": []
  },
  {
   "cell_type": "markdown",
   "id": "d68e6c80-70f3-45ad-a2bc-88010df77016",
   "metadata": {},
   "source": [
    "# for Sankey Diagram"
   ]
  },
  {
   "cell_type": "markdown",
   "id": "6a783489-45e8-47fa-8e8d-329b641676c9",
   "metadata": {},
   "source": [
    "### [] 環境に対する意識・配慮的行動によるグループ分け。\n",
    "\n"
   ]
  },
  {
   "cell_type": "code",
   "execution_count": 222,
   "id": "26484cb6-c3d5-4f92-8502-cf1b6d2505a1",
   "metadata": {},
   "outputs": [
    {
     "data": {
      "text/plain": [
       "1     9.4\n",
       "2    26.6\n",
       "3    34.0\n",
       "4    17.4\n",
       "5    12.6\n",
       "Name: q12, dtype: float64"
      ]
     },
     "execution_count": 222,
     "metadata": {},
     "output_type": "execute_result"
    }
   ],
   "source": [
    "#環境問題への意識\n",
    "df['q12'].value_counts(normalize=True).sort_index()*100"
   ]
  },
  {
   "cell_type": "code",
   "execution_count": null,
   "id": "b8633b8c-87ca-4859-b9de-ae17616b27e2",
   "metadata": {},
   "outputs": [],
   "source": []
  },
  {
   "cell_type": "code",
   "execution_count": 276,
   "id": "285869b9-7770-4e7b-a604-0c7deed3da17",
   "metadata": {},
   "outputs": [
    {
     "data": {
      "text/plain": [
       "<AxesSubplot: xlabel='Answer', ylabel='Frequency'>"
      ]
     },
     "execution_count": 276,
     "metadata": {},
     "output_type": "execute_result"
    },
    {
     "data": {
      "image/png": "[encoded data removed]",
      "text/plain": [
       "<Figure size 432x288 with 1 Axes>"
      ]
     },
     "metadata": {
      "needs_background": "light"
     },
     "output_type": "display_data"
    }
   ],
   "source": [
    "df['q12'].value_counts().sort_index().plot(\n",
    "    kind = 'bar',\n",
    "    title = '',\n",
    "    ylabel = 'Frequency',\n",
    "    xlabel = 'Answer',\n",
    "    grid = True\n",
    ")\n"
   ]
  },
  {
   "cell_type": "code",
   "execution_count": 277,
   "id": "cb9a0fe8-8f43-4fb3-8df9-cb1baaaba28b",
   "metadata": {},
   "outputs": [
    {
     "data": {
      "text/plain": [
       "<AxesSubplot: ylabel='Frequency'>"
      ]
     },
     "execution_count": 277,
     "metadata": {},
     "output_type": "execute_result"
    },
    {
     "data": {
      "image/png": "[encoded data removed]",
      "text/plain": [
       "<Figure size 432x288 with 1 Axes>"
      ]
     },
     "metadata": {},
     "output_type": "display_data"
    }
   ],
   "source": [
    "df['q12'].value_counts().sort_index().plot(\n",
    "    kind = 'pie',\n",
    "    title = '',\n",
    "    ylabel = 'Frequency',\n",
    "    xlabel = 'Answer',\n",
    "    grid = True\n",
    ")"
   ]
  },
  {
   "cell_type": "code",
   "execution_count": null,
   "id": "7905812e-a4d0-4dfc-ab62-cba2a5fe5cb4",
   "metadata": {},
   "outputs": [],
   "source": []
  },
  {
   "cell_type": "code",
   "execution_count": 295,
   "id": "b5ecb237-9894-439d-a247-8adb121d0fed",
   "metadata": {},
   "outputs": [
    {
     "data": {
      "text/html": [
       "<div>\n",
       "<style scoped>\n",
       "    .dataframe tbody tr th:only-of-type {\n",
       "        vertical-align: middle;\n",
       "    }\n",
       "\n",
       "    .dataframe tbody tr th {\n",
       "        vertical-align: top;\n",
       "    }\n",
       "\n",
       "    .dataframe thead th {\n",
       "        text-align: right;\n",
       "    }\n",
       "</style>\n",
       "<table border=\"1\" class=\"dataframe\">\n",
       "  <thead>\n",
       "    <tr style=\"text-align: right;\">\n",
       "      <th></th>\n",
       "      <th>no</th>\n",
       "      <th>group</th>\n",
       "      <th>sc1</th>\n",
       "      <th>sc2_1</th>\n",
       "      <th>sc3</th>\n",
       "      <th>sc4</th>\n",
       "      <th>sc5</th>\n",
       "      <th>sc6</th>\n",
       "      <th>sc7-1</th>\n",
       "      <th>sc7-2</th>\n",
       "      <th>...</th>\n",
       "      <th>q10-17</th>\n",
       "      <th>q10-18</th>\n",
       "      <th>q10-19</th>\n",
       "      <th>q10-20</th>\n",
       "      <th>q11_1</th>\n",
       "      <th>q11_2</th>\n",
       "      <th>q11_3</th>\n",
       "      <th>q11_4</th>\n",
       "      <th>q12</th>\n",
       "      <th>sum_points</th>\n",
       "    </tr>\n",
       "  </thead>\n",
       "  <tbody>\n",
       "    <tr>\n",
       "      <th>0</th>\n",
       "      <td>1</td>\n",
       "      <td>7</td>\n",
       "      <td>2</td>\n",
       "      <td>39</td>\n",
       "      <td>42</td>\n",
       "      <td>2</td>\n",
       "      <td>2</td>\n",
       "      <td>11</td>\n",
       "      <td>0</td>\n",
       "      <td>0</td>\n",
       "      <td>...</td>\n",
       "      <td>0</td>\n",
       "      <td>0</td>\n",
       "      <td>0</td>\n",
       "      <td>0</td>\n",
       "      <td>4</td>\n",
       "      <td>4</td>\n",
       "      <td>3</td>\n",
       "      <td>4</td>\n",
       "      <td>4</td>\n",
       "      <td>4</td>\n",
       "    </tr>\n",
       "    <tr>\n",
       "      <th>1</th>\n",
       "      <td>2</td>\n",
       "      <td>3</td>\n",
       "      <td>1</td>\n",
       "      <td>46</td>\n",
       "      <td>43</td>\n",
       "      <td>1</td>\n",
       "      <td>1</td>\n",
       "      <td>1</td>\n",
       "      <td>0</td>\n",
       "      <td>0</td>\n",
       "      <td>...</td>\n",
       "      <td>0</td>\n",
       "      <td>0</td>\n",
       "      <td>0</td>\n",
       "      <td>0</td>\n",
       "      <td>4</td>\n",
       "      <td>4</td>\n",
       "      <td>4</td>\n",
       "      <td>4</td>\n",
       "      <td>4</td>\n",
       "      <td>2</td>\n",
       "    </tr>\n",
       "    <tr>\n",
       "      <th>2</th>\n",
       "      <td>3</td>\n",
       "      <td>2</td>\n",
       "      <td>1</td>\n",
       "      <td>36</td>\n",
       "      <td>14</td>\n",
       "      <td>1</td>\n",
       "      <td>3</td>\n",
       "      <td>13</td>\n",
       "      <td>0</td>\n",
       "      <td>0</td>\n",
       "      <td>...</td>\n",
       "      <td>0</td>\n",
       "      <td>0</td>\n",
       "      <td>0</td>\n",
       "      <td>0</td>\n",
       "      <td>4</td>\n",
       "      <td>4</td>\n",
       "      <td>4</td>\n",
       "      <td>4</td>\n",
       "      <td>4</td>\n",
       "      <td>5</td>\n",
       "    </tr>\n",
       "    <tr>\n",
       "      <th>3</th>\n",
       "      <td>4</td>\n",
       "      <td>2</td>\n",
       "      <td>1</td>\n",
       "      <td>38</td>\n",
       "      <td>11</td>\n",
       "      <td>1</td>\n",
       "      <td>3</td>\n",
       "      <td>10</td>\n",
       "      <td>0</td>\n",
       "      <td>0</td>\n",
       "      <td>...</td>\n",
       "      <td>0</td>\n",
       "      <td>0</td>\n",
       "      <td>0</td>\n",
       "      <td>1</td>\n",
       "      <td>3</td>\n",
       "      <td>3</td>\n",
       "      <td>3</td>\n",
       "      <td>3</td>\n",
       "      <td>5</td>\n",
       "      <td>0</td>\n",
       "    </tr>\n",
       "    <tr>\n",
       "      <th>4</th>\n",
       "      <td>5</td>\n",
       "      <td>13</td>\n",
       "      <td>1</td>\n",
       "      <td>46</td>\n",
       "      <td>13</td>\n",
       "      <td>1</td>\n",
       "      <td>1</td>\n",
       "      <td>5</td>\n",
       "      <td>0</td>\n",
       "      <td>0</td>\n",
       "      <td>...</td>\n",
       "      <td>0</td>\n",
       "      <td>0</td>\n",
       "      <td>0</td>\n",
       "      <td>0</td>\n",
       "      <td>3</td>\n",
       "      <td>3</td>\n",
       "      <td>3</td>\n",
       "      <td>3</td>\n",
       "      <td>4</td>\n",
       "      <td>2</td>\n",
       "    </tr>\n",
       "    <tr>\n",
       "      <th>...</th>\n",
       "      <td>...</td>\n",
       "      <td>...</td>\n",
       "      <td>...</td>\n",
       "      <td>...</td>\n",
       "      <td>...</td>\n",
       "      <td>...</td>\n",
       "      <td>...</td>\n",
       "      <td>...</td>\n",
       "      <td>...</td>\n",
       "      <td>...</td>\n",
       "      <td>...</td>\n",
       "      <td>...</td>\n",
       "      <td>...</td>\n",
       "      <td>...</td>\n",
       "      <td>...</td>\n",
       "      <td>...</td>\n",
       "      <td>...</td>\n",
       "      <td>...</td>\n",
       "      <td>...</td>\n",
       "      <td>...</td>\n",
       "      <td>...</td>\n",
       "    </tr>\n",
       "    <tr>\n",
       "      <th>495</th>\n",
       "      <td>496</td>\n",
       "      <td>15</td>\n",
       "      <td>1</td>\n",
       "      <td>64</td>\n",
       "      <td>36</td>\n",
       "      <td>2</td>\n",
       "      <td>2</td>\n",
       "      <td>5</td>\n",
       "      <td>0</td>\n",
       "      <td>0</td>\n",
       "      <td>...</td>\n",
       "      <td>0</td>\n",
       "      <td>0</td>\n",
       "      <td>0</td>\n",
       "      <td>0</td>\n",
       "      <td>3</td>\n",
       "      <td>3</td>\n",
       "      <td>3</td>\n",
       "      <td>3</td>\n",
       "      <td>3</td>\n",
       "      <td>4</td>\n",
       "    </tr>\n",
       "    <tr>\n",
       "      <th>496</th>\n",
       "      <td>497</td>\n",
       "      <td>20</td>\n",
       "      <td>2</td>\n",
       "      <td>60</td>\n",
       "      <td>13</td>\n",
       "      <td>1</td>\n",
       "      <td>1</td>\n",
       "      <td>1</td>\n",
       "      <td>0</td>\n",
       "      <td>0</td>\n",
       "      <td>...</td>\n",
       "      <td>0</td>\n",
       "      <td>0</td>\n",
       "      <td>0</td>\n",
       "      <td>0</td>\n",
       "      <td>2</td>\n",
       "      <td>4</td>\n",
       "      <td>4</td>\n",
       "      <td>4</td>\n",
       "      <td>2</td>\n",
       "      <td>8</td>\n",
       "    </tr>\n",
       "    <tr>\n",
       "      <th>497</th>\n",
       "      <td>498</td>\n",
       "      <td>15</td>\n",
       "      <td>1</td>\n",
       "      <td>66</td>\n",
       "      <td>12</td>\n",
       "      <td>2</td>\n",
       "      <td>3</td>\n",
       "      <td>13</td>\n",
       "      <td>0</td>\n",
       "      <td>0</td>\n",
       "      <td>...</td>\n",
       "      <td>0</td>\n",
       "      <td>0</td>\n",
       "      <td>0</td>\n",
       "      <td>1</td>\n",
       "      <td>3</td>\n",
       "      <td>3</td>\n",
       "      <td>3</td>\n",
       "      <td>3</td>\n",
       "      <td>5</td>\n",
       "      <td>0</td>\n",
       "    </tr>\n",
       "    <tr>\n",
       "      <th>498</th>\n",
       "      <td>499</td>\n",
       "      <td>5</td>\n",
       "      <td>1</td>\n",
       "      <td>65</td>\n",
       "      <td>6</td>\n",
       "      <td>2</td>\n",
       "      <td>3</td>\n",
       "      <td>13</td>\n",
       "      <td>0</td>\n",
       "      <td>0</td>\n",
       "      <td>...</td>\n",
       "      <td>0</td>\n",
       "      <td>0</td>\n",
       "      <td>1</td>\n",
       "      <td>0</td>\n",
       "      <td>3</td>\n",
       "      <td>3</td>\n",
       "      <td>3</td>\n",
       "      <td>3</td>\n",
       "      <td>3</td>\n",
       "      <td>4</td>\n",
       "    </tr>\n",
       "    <tr>\n",
       "      <th>499</th>\n",
       "      <td>500</td>\n",
       "      <td>15</td>\n",
       "      <td>1</td>\n",
       "      <td>66</td>\n",
       "      <td>16</td>\n",
       "      <td>2</td>\n",
       "      <td>3</td>\n",
       "      <td>10</td>\n",
       "      <td>0</td>\n",
       "      <td>0</td>\n",
       "      <td>...</td>\n",
       "      <td>0</td>\n",
       "      <td>0</td>\n",
       "      <td>0</td>\n",
       "      <td>1</td>\n",
       "      <td>3</td>\n",
       "      <td>3</td>\n",
       "      <td>3</td>\n",
       "      <td>3</td>\n",
       "      <td>5</td>\n",
       "      <td>0</td>\n",
       "    </tr>\n",
       "  </tbody>\n",
       "</table>\n",
       "<p>500 rows × 97 columns</p>\n",
       "</div>"
      ],
      "text/plain": [
       "      no  group  sc1  sc2_1  sc3  sc4  sc5  sc6  sc7-1  sc7-2  ...  q10-17  \\\n",
       "0      1      7    2     39   42    2    2   11      0      0  ...       0   \n",
       "1      2      3    1     46   43    1    1    1      0      0  ...       0   \n",
       "2      3      2    1     36   14    1    3   13      0      0  ...       0   \n",
       "3      4      2    1     38   11    1    3   10      0      0  ...       0   \n",
       "4      5     13    1     46   13    1    1    5      0      0  ...       0   \n",
       "..   ...    ...  ...    ...  ...  ...  ...  ...    ...    ...  ...     ...   \n",
       "495  496     15    1     64   36    2    2    5      0      0  ...       0   \n",
       "496  497     20    2     60   13    1    1    1      0      0  ...       0   \n",
       "497  498     15    1     66   12    2    3   13      0      0  ...       0   \n",
       "498  499      5    1     65    6    2    3   13      0      0  ...       0   \n",
       "499  500     15    1     66   16    2    3   10      0      0  ...       0   \n",
       "\n",
       "     q10-18  q10-19  q10-20  q11_1  q11_2  q11_3  q11_4  q12  sum_points  \n",
       "0         0       0       0      4      4      3      4    4           4  \n",
       "1         0       0       0      4      4      4      4    4           2  \n",
       "2         0       0       0      4      4      4      4    4           5  \n",
       "3         0       0       1      3      3      3      3    5           0  \n",
       "4         0       0       0      3      3      3      3    4           2  \n",
       "..      ...     ...     ...    ...    ...    ...    ...  ...         ...  \n",
       "495       0       0       0      3      3      3      3    3           4  \n",
       "496       0       0       0      2      4      4      4    2           8  \n",
       "497       0       0       1      3      3      3      3    5           0  \n",
       "498       0       1       0      3      3      3      3    3           4  \n",
       "499       0       0       1      3      3      3      3    5           0  \n",
       "\n",
       "[500 rows x 97 columns]"
      ]
     },
     "execution_count": 295,
     "metadata": {},
     "output_type": "execute_result"
    }
   ],
   "source": [
    "# both R選好\n",
    "\n",
    "len(df[ (df['q12']<4) & (df['sum_points'] > 6)])"
   ]
  },
  {
   "cell_type": "code",
   "execution_count": null,
   "id": "a18098b0-506b-4190-a2cb-ba3f8a2d253a",
   "metadata": {},
   "outputs": [],
   "source": [
    "#環境配慮的行動　の合計を出す （q10_20は\"特に当てはまるものがない\"なので省いている。）\n",
    "new_col  = df.iloc[:,71:90].sum(axis=1).tolist()\n",
    "df['sum_points'] = new_col"
   ]
  },
  {
   "cell_type": "markdown",
   "id": "333c990f-ae90-464e-8dad-b38e46e16014",
   "metadata": {},
   "source": [
    "### 環境問題を意識している層　条件： (q12の回答) < 4 \n",
    "\n",
    "1 \t普段から環境問題を意識している  \n",
    "2 \t時々環境問題を意識している  \n",
    "3 \tたまに環境問題を意識することがある  \n",
    "4 \tあまり環境問題は意識することはない  \n",
    "5 \t全く環境問題は意識していない  "
   ]
  },
  {
   "cell_type": "markdown",
   "id": "5245b86b-e462-4daf-8459-e7093bbbea0f",
   "metadata": {},
   "source": [
    "## Step.1＝＝＝＝＝＝＝＝＝＝＝＝＝＝＝＝＝＝＝＝＝"
   ]
  },
  {
   "cell_type": "code",
   "execution_count": 320,
   "id": "12c69bcb-a95a-4501-8420-2e4a5ccdee20",
   "metadata": {},
   "outputs": [
    {
     "data": {
      "text/plain": [
       "104"
      ]
     },
     "execution_count": 320,
     "metadata": {},
     "output_type": "execute_result"
    }
   ],
   "source": [
    "# 意識している(1,2,3)かつ、環境配慮行動ヘビー層（7個以上）　\n",
    "len(df[ (df['q12']<4) & (df['sum_points'] > 6)])"
   ]
  },
  {
   "cell_type": "code",
   "execution_count": 321,
   "id": "4e6284bb-7e58-4232-83f3-39fb98f4e3dc",
   "metadata": {},
   "outputs": [
    {
     "data": {
      "text/plain": [
       "246"
      ]
     },
     "execution_count": 321,
     "metadata": {},
     "output_type": "execute_result"
    }
   ],
   "source": [
    "# 意識している(1,2,3)かつ、環境配慮行動ミドル層以下（6個以下）　\n",
    "len(df[ (df['q12']<4) & (df['sum_points'] < 7)])"
   ]
  },
  {
   "cell_type": "code",
   "execution_count": null,
   "id": "b179e245-a0ac-4795-9ace-5f89a0b1553b",
   "metadata": {},
   "outputs": [],
   "source": []
  },
  {
   "cell_type": "code",
   "execution_count": 323,
   "id": "a64c1244-ec86-4a6a-8a95-22e9bc26892a",
   "metadata": {},
   "outputs": [
    {
     "data": {
      "text/plain": [
       "6"
      ]
     },
     "execution_count": 323,
     "metadata": {},
     "output_type": "execute_result"
    }
   ],
   "source": [
    "# 意識していない層(4,5)　かつ、環境配慮行動ヘビー層（7個以上）　\n",
    "len(df[ (df['q12']>3) & (df['sum_points'] > 6)])"
   ]
  },
  {
   "cell_type": "code",
   "execution_count": 324,
   "id": "23db1f31-84f7-45f1-ab02-4bf9fcb58e7d",
   "metadata": {},
   "outputs": [
    {
     "data": {
      "text/plain": [
       "144"
      ]
     },
     "execution_count": 324,
     "metadata": {},
     "output_type": "execute_result"
    }
   ],
   "source": [
    "# 意識していない層(4,5)　かつ、環境配慮行動ミドル層以下（6個以下）　\n",
    "len(df[ (df['q12']>3) & (df['sum_points'] < 7)])"
   ]
  },
  {
   "cell_type": "code",
   "execution_count": null,
   "id": "aee04700-bcda-4c13-8642-861443725a97",
   "metadata": {},
   "outputs": [],
   "source": []
  },
  {
   "cell_type": "markdown",
   "id": "89e39e4a-1a16-406e-8638-203f1590163d",
   "metadata": {},
   "source": [
    "## Step.2＝＝＝＝＝＝＝＝＝＝＝＝＝＝＝＝"
   ]
  },
  {
   "cell_type": "markdown",
   "id": "8b112780-a7a1-423a-b9d2-d815b3f734ad",
   "metadata": {},
   "source": [
    "### Step.2-1"
   ]
  },
  {
   "cell_type": "code",
   "execution_count": 346,
   "id": "25a393d1-befe-47b3-bcad-f272ca60775b",
   "metadata": {},
   "outputs": [
    {
     "data": {
      "text/plain": [
       "22"
      ]
     },
     "execution_count": 346,
     "metadata": {},
     "output_type": "execute_result"
    }
   ],
   "source": [
    "# 環境配慮行動ヘビー層（7個以上）　かつ、both R選好\n",
    "len(df[ (df['sum_points'] > 6) & (df['q3']<3) & (df['q8']<3)])"
   ]
  },
  {
   "cell_type": "code",
   "execution_count": 360,
   "id": "22d2c0af-24a6-4df3-ad3b-d06cb1bc421a",
   "metadata": {},
   "outputs": [
    {
     "data": {
      "text/plain": [
       "29"
      ]
     },
     "execution_count": 360,
     "metadata": {},
     "output_type": "execute_result"
    }
   ],
   "source": [
    "# 環境配慮行動ヘビー層（7個以上）　かつ、 Rペットのみ選好\n",
    "len(df[ (df['sum_points'] > 6) & (df['q3']<3) & (df['q8'] >2)])"
   ]
  },
  {
   "cell_type": "code",
   "execution_count": 361,
   "id": "447d0c05-a453-4af2-b7c2-244a00ca0612",
   "metadata": {},
   "outputs": [
    {
     "data": {
      "text/plain": [
       "4"
      ]
     },
     "execution_count": 361,
     "metadata": {},
     "output_type": "execute_result"
    }
   ],
   "source": [
    "# 環境配慮行動ヘビー層（7個以上）　かつ、 Rシャツ　のみ選好\n",
    "len(df[ (df['sum_points'] > 6) & (df['q3']>2) &  (df['q8']<3)])"
   ]
  },
  {
   "cell_type": "code",
   "execution_count": 362,
   "id": "fd6fc6ca-a4da-48fc-b328-edbf61d1a19f",
   "metadata": {},
   "outputs": [
    {
     "data": {
      "text/plain": [
       "55"
      ]
     },
     "execution_count": 362,
     "metadata": {},
     "output_type": "execute_result"
    }
   ],
   "source": [
    "# 環境配慮行動ヘビー層（7個以上）　かつ、both 従来素材選好or選好なし\n",
    "len(df[ (df['sum_points'] > 6) & (df['q3'] > 2) & (df['q8'] > 2)])"
   ]
  },
  {
   "cell_type": "markdown",
   "id": "baaf4b8c-add4-4430-8457-2b9081279123",
   "metadata": {},
   "source": [
    "### Step.2-2"
   ]
  },
  {
   "cell_type": "code",
   "execution_count": 363,
   "id": "3c7a05e3-1f53-48f7-a218-43486997e89f",
   "metadata": {},
   "outputs": [
    {
     "data": {
      "text/plain": [
       "80"
      ]
     },
     "execution_count": 363,
     "metadata": {},
     "output_type": "execute_result"
    }
   ],
   "source": [
    "# 環境配慮行動層ミドル層以下（6個以下）かつ、both R選好\n",
    "len(df[  (df['sum_points'] < 7) &  (df['q8']<3) &  (df['q3']<3)])"
   ]
  },
  {
   "cell_type": "code",
   "execution_count": 364,
   "id": "46efd18b-eb4e-49c2-8601-38380151a8c8",
   "metadata": {},
   "outputs": [
    {
     "data": {
      "text/plain": [
       "57"
      ]
     },
     "execution_count": 364,
     "metadata": {},
     "output_type": "execute_result"
    }
   ],
   "source": [
    "# 環境配慮行動層ミドル層以下（6個以下）かつ、Rペットのみ選好\n",
    "len(df[ (df['sum_points'] < 7) &  (df['q3']<3) & (df['q8'] > 2)])"
   ]
  },
  {
   "cell_type": "code",
   "execution_count": 365,
   "id": "d0b380f8-be43-49d7-b618-038ad339a011",
   "metadata": {},
   "outputs": [
    {
     "data": {
      "text/plain": [
       "16"
      ]
     },
     "execution_count": 365,
     "metadata": {},
     "output_type": "execute_result"
    }
   ],
   "source": [
    "# 環境配慮行動層ミドル層以下（6個以下）かつ、Rシャツのみ選好\n",
    "len(df[ (df['sum_points'] < 7) & (df['q3'] > 2) & (df['q8']<3)])"
   ]
  },
  {
   "cell_type": "code",
   "execution_count": 366,
   "id": "93ee7042-6424-442f-a79e-53038a9d8da9",
   "metadata": {},
   "outputs": [
    {
     "data": {
      "text/plain": [
       "237"
      ]
     },
     "execution_count": 366,
     "metadata": {},
     "output_type": "execute_result"
    }
   ],
   "source": [
    "# 環境配慮行動層ミドル層以下（6個以下）かつ、both 従来素材選好or選好なし\n",
    "len(df[ (df['sum_points'] < 7) & (df['q3'] > 2) & (df['q8'] > 2)])"
   ]
  },
  {
   "cell_type": "markdown",
   "id": "779a6730-6b74-4dc4-beae-ef4e5bc55215",
   "metadata": {},
   "source": [
    "# =============================="
   ]
  },
  {
   "cell_type": "code",
   "execution_count": null,
   "id": "548b3970-03db-4dc7-a8e9-4cd1b031974b",
   "metadata": {},
   "outputs": [],
   "source": []
  },
  {
   "cell_type": "code",
   "execution_count": null,
   "id": "435ec606-8ff7-4fb8-af1e-1f10b14e4f1f",
   "metadata": {},
   "outputs": [],
   "source": []
  },
  {
   "cell_type": "markdown",
   "id": "9db44d85-4c3e-4f6e-a2e2-045ee76fa3e6",
   "metadata": {},
   "source": [
    "### Sankey Diagramでは表せない全体を通したグループ間の割合を出す。"
   ]
  },
  {
   "cell_type": "code",
   "execution_count": 371,
   "id": "b5815476-c2a3-44e3-8355-8a47b8099dde",
   "metadata": {},
   "outputs": [
    {
     "name": "stdout",
     "output_type": "stream",
     "text": [
      "意識している（1,2,3）かつ、環境配慮行動ヘビー層（7個以上）　かつ、both R選好\n",
      "22\n",
      "\n",
      " 意識している（1,2,3）かつ、環境配慮行動ヘビー層（7個以上）　かつ、 Rペットのみ選好\n",
      "28\n",
      "\n",
      "意識している（1,2,3）かつ、環境配慮行動ヘビー層（7個以上）　かつ、 Rシャツ　のみ選好\n",
      "3\n",
      "\n",
      "意識している（1,2,3）かつ、環境配慮行動ヘビー層（7個以上）　かつ、both 従来素材選好or選好なし\n",
      "51\n",
      "\n"
     ]
    }
   ],
   "source": [
    "# α①：意識している（1,2,3）かつ、環境配慮行動ヘビー層（7個以上）　かつ、both R選好\n",
    "print('意識している（1,2,3）かつ、環境配慮行動ヘビー層（7個以上）　かつ、both R選好')\n",
    "print(len(df[ (df['q12']<4) & (df['sum_points'] > 6) & (df['q3']<3) & (df['q8']<3)]))\n",
    "print()\n",
    "\n",
    "# β①：意識している（1,2,3）かつ、環境配慮行動ヘビー層（7個以上）　かつ、 Rペットのみ選好\n",
    "print(' 意識している（1,2,3）かつ、環境配慮行動ヘビー層（7個以上）　かつ、 Rペットのみ選好')\n",
    "print(len(df[ (df['q12']<4) & (df['sum_points'] > 6) & (df['q3']<3) & (df['q8'] >2)]))\n",
    "print()\n",
    "\n",
    "# θ①：意識している（1,2,3）かつ、環境配慮行動ヘビー層（7個以上）　かつ、 Rシャツ　のみ選好\n",
    "print('意識している（1,2,3）かつ、環境配慮行動ヘビー層（7個以上）　かつ、 Rシャツ　のみ選好')\n",
    "print(len(df[ (df['q12']<4) & (df['sum_points'] > 6) & (df['q3']>2) &  (df['q8']<3)]))\n",
    "print()\n",
    "\n",
    "# δ①：意識している（1,2,3）かつ、環境配慮行動ヘビー層（7個以上）　かつ、both 従来素材選好or選好なし\n",
    "print('意識している（1,2,3）かつ、環境配慮行動ヘビー層（7個以上）　かつ、both 従来素材選好or選好なし')\n",
    "print(len(df[ (df['q12']<4) & (df['sum_points'] > 6) & (df['q3'] > 2) & (df['q8'] > 2)]))\n",
    "print()"
   ]
  },
  {
   "cell_type": "code",
   "execution_count": 378,
   "id": "eb0d10c8-743f-4f8c-bb9c-bf3001d8da30",
   "metadata": {},
   "outputs": [
    {
     "name": "stdout",
     "output_type": "stream",
     "text": [
      "21.153846153846153\n",
      "26.923076923076923\n",
      "2.8846153846153846\n",
      "49.03846153846153\n"
     ]
    }
   ],
   "source": [
    "# 上の数字を%にすると。\n",
    "a=22\n",
    "b=28\n",
    "c=3\n",
    "d=51\n",
    "total = a+b+c+d\n",
    "print(a/total * 100)\n",
    "print(b/total * 100)\n",
    "print(c/total * 100)\n",
    "print(d/total * 100)"
   ]
  },
  {
   "cell_type": "code",
   "execution_count": null,
   "id": "7ebdd8cb-e21a-415a-a30c-fb15a385969b",
   "metadata": {},
   "outputs": [],
   "source": []
  },
  {
   "cell_type": "code",
   "execution_count": 388,
   "id": "ca73067c-013c-4e45-8c15-540dd80a37a5",
   "metadata": {},
   "outputs": [
    {
     "name": "stdout",
     "output_type": "stream",
     "text": [
      "意識している（1,2,3）かつ、環境配慮行動層ミドル層以下（6個以下）かつ、both R選好\n",
      "56\n",
      "\n",
      "意識している（1,2,3）かつ、環境配慮行動層ミドル層以下（6個以下）かつ、Rペットのみ選好\n",
      "47\n",
      "\n",
      "意識している（1,2,3）かつ、環境配慮行動層ミドル層以下（6個以下）かつ、Rシャツのみ選好\n",
      "11\n",
      "\n",
      "意識している（1,2,3）かつ、環境配慮行動層ミドル層以下（6個以下）かつ、both 従来素材選好or選好なし\n",
      "132\n",
      "\n"
     ]
    }
   ],
   "source": [
    "# α②：意識している（1,2,3）かつ、環境配慮行動層ミドル層以下（6個以下）かつ、both R選好\n",
    "print('意識している（1,2,3）かつ、環境配慮行動層ミドル層以下（6個以下）かつ、both R選好')\n",
    "print(len(df[ (df['q12']<4) & (df['sum_points'] < 7) &  (df['q8']<3) &  (df['q3']<3)]))\n",
    "print()\n",
    "\n",
    "# β②：意識している（1,2,3）かつ、環境配慮行動層ミドル層以下（6個以下）かつ、Rペットのみ選好\n",
    "print('意識している（1,2,3）かつ、環境配慮行動層ミドル層以下（6個以下）かつ、Rペットのみ選好')\n",
    "print(len(df[ (df['q12']<4) & (df['sum_points'] < 7) &  (df['q3']<3) & (df['q8'] > 2)]))\n",
    "print()\n",
    "\n",
    "# θ②：意識している（1,2,3）かつ、環境配慮行動層ミドル層以下（6個以下）かつ、Rシャツのみ選好\n",
    "print('意識している（1,2,3）かつ、環境配慮行動層ミドル層以下（6個以下）かつ、Rシャツのみ選好')\n",
    "print(len(df[ (df['q12']<4) & (df['sum_points'] < 7) & (df['q3'] > 2) & (df['q8']<3)]))\n",
    "print()\n",
    "\n",
    "# δ②：意識している（1,2,3）かつ、環境配慮行動層ミドル層以下（6個以下）かつ、both 従来素材選好or選好なし\n",
    "print('意識している（1,2,3）かつ、環境配慮行動層ミドル層以下（6個以下）かつ、both 従来素材選好or選好なし')\n",
    "print(len(df[ (df['q12']<4) & (df['sum_points'] < 7) & (df['q3'] > 2) & (df['q8'] > 2)]))\n",
    "print()"
   ]
  },
  {
   "cell_type": "code",
   "execution_count": 389,
   "id": "419288b3-be72-43f8-9db3-abca88aef6b0",
   "metadata": {},
   "outputs": [
    {
     "name": "stdout",
     "output_type": "stream",
     "text": [
      "22.76422764227642\n",
      "19.10569105691057\n",
      "4.471544715447155\n",
      "53.65853658536586\n"
     ]
    }
   ],
   "source": [
    "# 上の数字を%にすると。\n",
    "a=56\n",
    "b=47\n",
    "c=11\n",
    "d=132\n",
    "total = a+b+c+d\n",
    "print(a/total * 100)\n",
    "print(b/total * 100)\n",
    "print(c/total * 100)\n",
    "print(d/total * 100)"
   ]
  },
  {
   "cell_type": "code",
   "execution_count": null,
   "id": "5a897f3d-cde0-423d-a8a8-caa0ab07992b",
   "metadata": {},
   "outputs": [],
   "source": []
  },
  {
   "cell_type": "code",
   "execution_count": 374,
   "id": "dadb332f-2b55-446e-844d-64ac91afdeb4",
   "metadata": {},
   "outputs": [
    {
     "name": "stdout",
     "output_type": "stream",
     "text": [
      "意識していない（4,5）かつ、環境配慮行動ヘビー層（7個以上）　かつ、both R選好\n",
      "0\n",
      "\n",
      " 意識していない（4,5）かつ、環境配慮行動ヘビー層（7個以上）　かつ、 Rペットのみ選好\n",
      "1\n",
      "\n",
      "意識していない（4,5）かつ、環境配慮行動ヘビー層（7個以上）　かつ、 Rシャツ　のみ選好\n",
      "1\n",
      "\n",
      "意識していない（4,5）かつ、環境配慮行動ヘビー層（7個以上）　かつ、both 従来素材選好or選好なし\n",
      "4\n",
      "\n"
     ]
    }
   ],
   "source": [
    "# α③：意識していない（4,5）かつ、環境配慮行動ヘビー層（7個以上）　かつ、both R選好\n",
    "print('意識していない（4,5）かつ、環境配慮行動ヘビー層（7個以上）　かつ、both R選好')\n",
    "print(len(df[ (df['q12']>3) & (df['sum_points'] > 6) & (df['q3']<3) & (df['q8']<3)]))\n",
    "print()\n",
    "\n",
    "# β③：意識していない（4,5）かつ、環境配慮行動ヘビー層（7個以上）　かつ、 Rペットのみ選好\n",
    "print(' 意識していない（4,5）かつ、環境配慮行動ヘビー層（7個以上）　かつ、 Rペットのみ選好')\n",
    "print(len(df[ (df['q12']>3) & (df['sum_points'] > 6) & (df['q3']<3) & (df['q8'] >2)]))\n",
    "print()\n",
    "\n",
    "# θ③：意識していない（4,5）かつ、環境配慮行動ヘビー層（7個以上）　かつ、 Rシャツ　のみ選好\n",
    "print('意識していない（4,5）かつ、環境配慮行動ヘビー層（7個以上）　かつ、 Rシャツ　のみ選好')\n",
    "print(len(df[ (df['q12']>3) & (df['sum_points'] > 6) & (df['q3']>2) &  (df['q8']<3)]))\n",
    "print()\n",
    "\n",
    "# δ③意識していない（4,5）かつ、環境配慮行動ヘビー層（7個以上）　かつ、both 従来素材選好or選好なし\n",
    "print('意識していない（4,5）かつ、環境配慮行動ヘビー層（7個以上）　かつ、both 従来素材選好or選好なし')\n",
    "print(len(df[ (df['q12']>3) & (df['sum_points'] > 6) & (df['q3'] > 2) & (df['q8'] > 2)]))\n",
    "print()"
   ]
  },
  {
   "cell_type": "code",
   "execution_count": 390,
   "id": "d5ee7e11-3729-4a8f-ab84-52a24a5e5574",
   "metadata": {},
   "outputs": [
    {
     "name": "stdout",
     "output_type": "stream",
     "text": [
      "0.0\n",
      "16.666666666666664\n",
      "16.666666666666664\n",
      "66.66666666666666\n"
     ]
    }
   ],
   "source": [
    "# 上の数字を%にすると。\n",
    "a=0\n",
    "b=1\n",
    "c=1\n",
    "d=4\n",
    "total = a+b+c+d\n",
    "print(a/total * 100)\n",
    "print(b/total * 100)\n",
    "print(c/total * 100)\n",
    "print(d/total * 100)"
   ]
  },
  {
   "cell_type": "code",
   "execution_count": null,
   "id": "ec0e707b-3317-4805-8b62-e6fd331cd50e",
   "metadata": {},
   "outputs": [],
   "source": []
  },
  {
   "cell_type": "code",
   "execution_count": 375,
   "id": "54b53570-468e-41d8-813d-167233645df1",
   "metadata": {},
   "outputs": [
    {
     "name": "stdout",
     "output_type": "stream",
     "text": [
      "意識していない（4,5）かつ、環境配慮行動層ミドル層以下（6個以下）かつ、both R選好\n",
      "24\n",
      "\n",
      "意識していない（4,5）かつ、環境配慮行動層ミドル層以下（6個以下）かつ、Rペットのみ選好\n",
      "10\n",
      "\n",
      "意識していない（4,5）かつ、環境配慮行動層ミドル層以下（6個以下）かつ、Rシャツのみ選好\n",
      "5\n",
      "\n",
      "意識していない（4,5）かつ、環境配慮行動層ミドル層以下（6個以下）かつ、both 従来素材選好or選好なし\n",
      "105\n",
      "\n"
     ]
    }
   ],
   "source": [
    "# α④：意識していない（4,5）かつ、環境配慮行動層ミドル層以下（6個以下）かつ、both R選好\n",
    "print('意識していない（4,5）かつ、環境配慮行動層ミドル層以下（6個以下）かつ、both R選好')\n",
    "print(len(df[ (df['q12']>3) & (df['sum_points'] < 7) &  (df['q8']<3) &  (df['q3']<3)]))\n",
    "print()\n",
    "\n",
    "# β④：意識していない（4,5）かつ、環境配慮行動層ミドル層以下（6個以下）かつ、Rペットのみ選好\n",
    "print('意識していない（4,5）かつ、環境配慮行動層ミドル層以下（6個以下）かつ、Rペットのみ選好')\n",
    "print(len(df[ (df['q12']>3) & (df['sum_points'] < 7) &  (df['q3']<3) & (df['q8'] > 2)]))\n",
    "print()\n",
    "\n",
    "# θ④：意識していない（4,5）かつ、環境配慮行動層ミドル層以下（6個以下）かつ、Rシャツのみ選好\n",
    "print('意識していない（4,5）かつ、環境配慮行動層ミドル層以下（6個以下）かつ、Rシャツのみ選好')\n",
    "print(len(df[ (df['q12']>3) & (df['sum_points'] < 7) & (df['q3'] > 2) & (df['q8']<3)]))\n",
    "print()\n",
    "\n",
    "# δ④：意識していない（4,5）かつ、環境配慮行動層ミドル層以下（6個以下）かつ、both 従来素材選好or選好なし\n",
    "print('意識していない（4,5）かつ、環境配慮行動層ミドル層以下（6個以下）かつ、both 従来素材選好or選好なし')\n",
    "print(len(df[ (df['q12']>3) & (df['sum_points'] < 7) & (df['q3'] > 2) & (df['q8'] > 2)]))\n",
    "print()"
   ]
  },
  {
   "cell_type": "code",
   "execution_count": 391,
   "id": "b23e781e-1634-4c24-9002-b711add540f7",
   "metadata": {},
   "outputs": [
    {
     "name": "stdout",
     "output_type": "stream",
     "text": [
      "16.666666666666664\n",
      "6.944444444444445\n",
      "3.4722222222222223\n",
      "72.91666666666666\n"
     ]
    }
   ],
   "source": [
    "# 上の数字を%にすると。\n",
    "a=24\n",
    "b=10\n",
    "c=5\n",
    "d=105\n",
    "total = a+b+c+d\n",
    "print(a/total * 100)\n",
    "print(b/total * 100)\n",
    "print(c/total * 100)\n",
    "print(d/total * 100)"
   ]
  },
  {
   "cell_type": "code",
   "execution_count": null,
   "id": "536d8de7-d610-4fae-8eca-dd248caa8fd7",
   "metadata": {},
   "outputs": [],
   "source": []
  },
  {
   "cell_type": "code",
   "execution_count": 398,
   "id": "4784a474-4899-498a-95a1-457f959df63f",
   "metadata": {},
   "outputs": [
    {
     "name": "stdout",
     "output_type": "stream",
     "text": [
      "α\n",
      "①：  21.568627450980394\n",
      "②：  54.90196078431373\n",
      "③：  0.0\n",
      "④：  23.52941176470588\n",
      "\n",
      "β\n",
      "①：  32.55813953488372\n",
      "②：  54.65116279069767\n",
      "③：  1.1627906976744187\n",
      "④：  11.627906976744185\n",
      "\n",
      "δ\n",
      "①：  17.465753424657535\n",
      "②：  45.20547945205479\n",
      "③：  1.36986301369863\n",
      "④：  35.95890410958904\n",
      "\n",
      "θ\n",
      "①：  15.0\n",
      "②：  55.00000000000001\n",
      "③：  5.0\n",
      "④：  25.0\n",
      "\n"
     ]
    }
   ],
   "source": [
    "# 結果から見た①〜④の割合\n",
    "\n",
    "# α\n",
    "alpha_total = 22 + 56 + 0 + 24\n",
    "print('α')\n",
    "print('①： ', 22 /alpha_total*100)\n",
    "print('②： ', 56 /alpha_total*100)\n",
    "print('③： ', 0 /alpha_total*100)\n",
    "print('④： ', 24 /alpha_total*100)\n",
    "print()\n",
    "\n",
    "# β\n",
    "beta_total = 28 + 47 + 1 + 10\n",
    "print('β')\n",
    "print('①： ', 28 /beta_total*100)\n",
    "print('②： ', 47 /beta_total*100)\n",
    "print('③： ', 1 /beta_total*100)\n",
    "print('④： ', 10 /beta_total*100)\n",
    "print()\n",
    "\n",
    "# δ\n",
    "delta_total = 51 + 132 + 4 + 105\n",
    "print('δ')\n",
    "print('①： ', 51 /delta_total*100)\n",
    "print('②： ', 132 /delta_total*100)\n",
    "print('③： ', 4 /delta_total*100)\n",
    "print('④： ', 105 /delta_total*100)\n",
    "print()\n",
    "\n",
    "# θ\n",
    "siita_total = 3 + 11 + 1 + 5\n",
    "print('θ')\n",
    "print('①： ', 3 /siita_total*100)\n",
    "print('②： ', 11 /siita_total*100)\n",
    "print('③： ', 1 /siita_total*100)\n",
    "print('④： ', 5 /siita_total*100)\n",
    "print()\n"
   ]
  },
  {
   "cell_type": "code",
   "execution_count": null,
   "id": "58bb0ff4-b414-40d1-8e15-e5c83d0bf8b1",
   "metadata": {},
   "outputs": [],
   "source": []
  },
  {
   "cell_type": "code",
   "execution_count": 401,
   "id": "f8ee8ceb-2641-48b7-8b9a-8e53402fcea4",
   "metadata": {},
   "outputs": [
    {
     "name": "stdout",
     "output_type": "stream",
     "text": [
      "α - β\n",
      "①:  11.0\n",
      "②:  -0.19999999999999574\n",
      "③:  1.2\n",
      "④:  -11.9\n",
      "\n",
      "α - θ\n",
      "①:  -6.600000000000001\n",
      "②:  0.10000000000000142\n",
      "③:  5\n",
      "④:  1.5\n",
      "\n",
      "α - δ\n",
      "①:  -4.100000000000001\n",
      "②:  -9.699999999999996\n",
      "③:  1.4\n",
      "④:  12.5\n",
      "\n"
     ]
    }
   ],
   "source": [
    "alpha_1 = 21.6\n",
    "alpha_2 = 54.9\n",
    "alpha_3 = 0\n",
    "alpha_4 = 23.5\n",
    "\n",
    "beta_1 = 32.6\n",
    "beta_2 = 54.7\n",
    "beta_3 = 1.2\n",
    "beta_4 = 11.6\n",
    "\n",
    "theta_1 = 15\n",
    "theta_2 = 55\n",
    "theta_3 = 5\n",
    "theta_4 = 25\n",
    "\n",
    "delta_1 = 17.5\n",
    "delta_2 = 45.2\n",
    "delta_3 = 1.4\n",
    "delta_4 = 36\n",
    "\n",
    "# α - β\n",
    "print('α - β')\n",
    "print('①: ', beta_1-alpha_1)\n",
    "print('②: ', beta_2-alpha_2)\n",
    "print('③: ', beta_3-alpha_3)\n",
    "print('④: ', beta_4-alpha_4)\n",
    "print()\n",
    "\n",
    "# α - θ\n",
    "print('α - θ')\n",
    "print('①: ', theta_1-alpha_1)\n",
    "print('②: ', theta_2-alpha_2)\n",
    "print('③: ', theta_3-alpha_3)\n",
    "print('④: ', theta_4-alpha_4)\n",
    "print()\n",
    "\n",
    "# α - δ\n",
    "print('α - δ')\n",
    "print('①: ', delta_1-alpha_1)\n",
    "print('②: ', delta_2-alpha_2)\n",
    "print('③: ', delta_3-alpha_3)\n",
    "print('④: ', delta_4-alpha_4)\n",
    "print()"
   ]
  },
  {
   "cell_type": "code",
   "execution_count": null,
   "id": "8d4b4886-0014-4253-bd58-a075c361418e",
   "metadata": {},
   "outputs": [],
   "source": []
  },
  {
   "cell_type": "markdown",
   "id": "973c3e75-1c40-4c0c-9fb7-d0052380dc99",
   "metadata": {},
   "source": [
    "### α①、β①に該当する被験者の、服の選好理由の差を調べる。\n",
    "\n",
    "'q6_snt15_1'項目（その他：自由回答）は、全体で１件しか値がなかったので省いている。\n",
    "\n",
    "出力は、各項目（購入理由）に該当する人数の合計。\n",
    "\n",
    "\n",
    "あなたはＴシャツを購入する際にどのようなことを重視されますか。当てはまるものをすべてお選びください。Ｔシャツを購入しない方は買うとすればということでお考え下さい。\n",
    "\n",
    "1 \t価格が手ごろであること  \n",
    "2 \tデザインや色・柄  \n",
    "3 \tブランドやメーカー  \n",
    "4 \t着心地のよさ  \n",
    "5 \t素材  \n",
    "6 \t耐久性  \n",
    "7 \t吸湿速乾などの機能性  \n",
    "8 \t自分に合うサイズがあること  \n",
    "9 \tショップの雰囲気や気持ちのいい店員がいること  \n",
    "10 \tインターネットで買うことができること  \n",
    "11 \t縫製などの品質  \n",
    "12 \t生産国  \n",
    "13 \tリサイクル素材を使っていること  \n",
    "14 \t環境に配慮した製品であること  \n",
    "15 \tその他  \n",
    "16 \t特に重視するものはない  "
   ]
  },
  {
   "cell_type": "code",
   "execution_count": 417,
   "id": "bc4ea1d0-40c6-435c-a3d7-bd3a32b58c14",
   "metadata": {},
   "outputs": [
    {
     "data": {
      "text/plain": [
       "購入者の評価    1\n",
       "Name: q6_snt15_1, dtype: int64"
      ]
     },
     "execution_count": 417,
     "metadata": {},
     "output_type": "execute_result"
    }
   ],
   "source": [
    "df['q6_snt15_1'].value_counts()"
   ]
  },
  {
   "cell_type": "code",
   "execution_count": 538,
   "id": "89ab354f-678a-4b0d-9d45-f71cf5ea7e14",
   "metadata": {},
   "outputs": [
    {
     "name": "stdout",
     "output_type": "stream",
     "text": [
      "---- q6-1 --- 14\n",
      "---- q6-2 --- 16\n",
      "---- q6-3 --- 5\n",
      "---- q6-4 --- 15\n",
      "---- q6-5 --- 11\n",
      "---- q6-6 --- 5\n",
      "---- q6-7 --- 6\n",
      "---- q6-8 --- 13\n",
      "---- q6-9 --- 1\n",
      "---- q6-10 --- 1\n",
      "---- q6-11 --- 6\n",
      "---- q6-12 --- 2\n",
      "---- q6-13 --- 0\n",
      "---- q6-14 --- 2\n",
      "---- q6-15 --- 0\n",
      "---- q6-16 --- 0\n"
     ]
    }
   ],
   "source": [
    "# α①にあたる被験者のTシャツの購買理由['q6-1' ~ 'q6_snt15_1']。\n",
    "df_alpha_1 = df[ (df['q12']<4) & (df['sum_points'] > 6) & (df['q3']<3) & (df['q8']<3)].iloc[:, 50:66]\n",
    "\n",
    "lst_alpha1_col = []\n",
    "lst_alpha1_value = []\n",
    "\n",
    "for c in df_alpha_1.columns:\n",
    "    lst_alpha1_col.append(c)\n",
    "    \n",
    "    if len(df_alpha_1[c].value_counts().index.values) == 1:\n",
    "        print(\"---- %s ---\" %c, 0)\n",
    "        lst_alpha1_value.append(0)\n",
    "    else:\n",
    "        count_of_1 = df_alpha_1[c].value_counts()[1]\n",
    "        print(\"---- %s ---\" %c, count_of_1)\n",
    "        lst_alpha1_value.append(count_of_1)"
   ]
  },
  {
   "cell_type": "code",
   "execution_count": null,
   "id": "a29dd67a-a28d-426f-8821-f81be031e66d",
   "metadata": {},
   "outputs": [],
   "source": []
  },
  {
   "cell_type": "code",
   "execution_count": 539,
   "id": "9a5e5bd7-979f-4810-aeb4-5847ad47b044",
   "metadata": {},
   "outputs": [
    {
     "name": "stdout",
     "output_type": "stream",
     "text": [
      "---- q6-1 --- 19\n",
      "---- q6-2 --- 24\n",
      "---- q6-3 --- 11\n",
      "---- q6-4 --- 16\n",
      "---- q6-5 --- 14\n",
      "---- q6-6 --- 8\n",
      "---- q6-7 --- 8\n",
      "---- q6-8 --- 21\n",
      "---- q6-9 --- 0\n",
      "---- q6-10 --- 4\n",
      "---- q6-11 --- 8\n",
      "---- q6-12 --- 4\n",
      "---- q6-13 --- 0\n",
      "---- q6-14 --- 0\n",
      "---- q6-15 --- 1\n",
      "---- q6-16 --- 0\n"
     ]
    }
   ],
   "source": [
    "# # β①にあたる被験者のTシャツの購買理由。['q6-1' ~ 'q6_snt15_1']。\n",
    "df_beta_1 = df[ (df['q12']<4) & (df['sum_points'] > 6) & (df['q3']<3) & (df['q8'] >2)].iloc[:, 50:66]\n",
    "\n",
    "lst_beta1_col = []\n",
    "lst_beta1_value = []\n",
    "\n",
    "for c in df_beta_1.columns:\n",
    "    lst_beta1_col.append(c)\n",
    "    \n",
    "    if len(df_beta_1[c].value_counts().index.values) == 1:\n",
    "        print(\"---- %s ---\" %c, 0)\n",
    "        lst_beta1_value.append(9)\n",
    "    else:\n",
    "        value = df_beta_1[c].value_counts()[1]\n",
    "        print(\"---- %s ---\" %c, value)\n",
    "        lst_beta1_value.append(value)"
   ]
  },
  {
   "cell_type": "code",
   "execution_count": null,
   "id": "048d49ff-f611-4759-b50b-b67a399dc85a",
   "metadata": {},
   "outputs": [],
   "source": []
  },
  {
   "cell_type": "code",
   "execution_count": 540,
   "id": "ca589da2-5e41-400c-b759-c73749ae55aa",
   "metadata": {},
   "outputs": [
    {
     "data": {
      "text/plain": [
       "<AxesSubplot: title={'center': 'factors for purchasing T-shirt in α① and β①'}, xlabel='Answer', ylabel='ratio of Frequency'>"
      ]
     },
     "execution_count": 540,
     "metadata": {},
     "output_type": "execute_result"
    },
    {
     "data": {
      "image/png": "[encoded data removed]",
      "text/plain": [
       "<Figure size 432x288 with 1 Axes>"
      ]
     },
     "metadata": {
      "needs_background": "light"
     },
     "output_type": "display_data"
    }
   ],
   "source": [
    "df_tmp = pd.DataFrame(\n",
    "    {\n",
    "        'α①': [v /sum(lst_alpha1_value) *100 for v in lst_alpha1_value], #絶対値を比べてもしょうがないので、%に変換。\n",
    "        'β①': [v /sum(lst_beta1_value) *100 for v in lst_beta1_value]\n",
    "    },\n",
    "    index=lst_alpha1_col\n",
    ")\n",
    "\n",
    "df_tmp.plot(\n",
    "    kind = 'bar',\n",
    "    title = 'factors for purchasing T-shirt in α① and β①',\n",
    "    ylabel = 'ratio of Frequency',\n",
    "    xlabel = 'Answer',\n",
    "    grid = True\n",
    ")"
   ]
  },
  {
   "cell_type": "code",
   "execution_count": 541,
   "id": "89f772aa-9ae6-4fd6-ac99-7025f5fe66ed",
   "metadata": {},
   "outputs": [
    {
     "name": "stdout",
     "output_type": "stream",
     "text": [
      "q6-1 :  -3.51344946083659\n",
      "q6-2 :  -2.7017419125488793\n",
      "q6-3 :  1.1671999052020396\n",
      "q6-4 :  -6.268515226922622\n",
      "q6-5 :  -3.2942291740727576\n",
      "q6-6 :  -0.5569380258324443\n",
      "q6-7 :  -1.5878658608839915\n",
      "q6-8 :  -1.3330963384287244\n",
      "q6-9 :  4.141485958051902\n",
      "q6-10 :  1.2679227396610973\n",
      "q6-11 :  -1.5878658608839915\n",
      "q6-12 :  0.23699490460955097\n",
      "q6-13 :  5.172413793103448\n",
      "q6-14 :  3.110558123000356\n",
      "q6-15 :  0.5747126436781609\n",
      "q6-16 :  5.172413793103448\n"
     ]
    }
   ],
   "source": [
    "alpha1_shirt_factor = [v /sum(lst_alpha1_value) *100 for v in lst_alpha1_value]\n",
    "beta1_shirt_factor = [v /sum(lst_beta1_value) *100 for v in lst_beta1_value]\n",
    "\n",
    "alpha1_shirt_factor = np.array(alpha1_shirt_factor)\n",
    "beta1_shirt_factor = np.array(beta1_shirt_factor)\n",
    "\n",
    "subtracted_array = np.subtract(beta1_shirt_factor, alpha1_shirt_factor)\n",
    "subtracted = list(subtracted_array)\n",
    "\n",
    "for i, v in enumerate(subtracted):\n",
    "    print(lst_alpha1_col[i], ': ', v)"
   ]
  },
  {
   "cell_type": "code",
   "execution_count": null,
   "id": "bd7244e5-c62a-49fe-b4fb-c1de7a0cbc33",
   "metadata": {},
   "outputs": [],
   "source": []
  },
  {
   "cell_type": "code",
   "execution_count": null,
   "id": "522e8767-7e6c-4bb6-b848-33236fcd781e",
   "metadata": {},
   "outputs": [],
   "source": []
  },
  {
   "cell_type": "code",
   "execution_count": null,
   "id": "280caa65-717b-4cc2-bdc7-6f5723e7f1d1",
   "metadata": {},
   "outputs": [],
   "source": []
  },
  {
   "cell_type": "markdown",
   "id": "b6ce4b5f-e139-4451-810c-1c13c15a2d0c",
   "metadata": {},
   "source": [
    "### αとθグループ間で、ペットボトルの購入理由の差を調べる。\n",
    "\n",
    "'q2_snt11_1'項目（その他：自由回答）は、全体で4件でそれぞれの回答が異なっていたので省いている。\n",
    "\n",
    "出力は、各項目（購入理由）に該当する人数の合計。\n",
    "\n",
    "あなたはペットボトル飲料を購入する際にどのようなことを重視されますか。当てはまるものをすべてお選びください。ペットボトル飲料を購入しない方は買うとすればということでお考え下さい。\n",
    "\n",
    "1 \t価格が手ごろであること  \n",
    "2 \tメーカーやブランド  \n",
    "3 \tボトルの形やデザイン  \n",
    "4 \t新製品であること  \n",
    "5 \t味や香りなど  \n",
    "6 \t原材料や産地など  \n",
    "7 \t容量  \n",
    "8 \t広告やキャンペーンなどの話題性  \n",
    "9 \t容器がリサイクル素材を用いていること    \n",
    "10 \t環境面への配慮がされていること  \n",
    "11 \tその他  \n",
    "12 \t特に重視するものはない  "
   ]
  },
  {
   "cell_type": "code",
   "execution_count": 455,
   "id": "73f39770-7742-4279-8ec8-37e06f4d3f9b",
   "metadata": {},
   "outputs": [
    {
     "data": {
      "text/plain": [
       "カロリー                      1\n",
       "ブラックコーヒーや緑茶               1\n",
       "冷凍できるかどうか。                1\n",
       "飲み物が手元になくて喉の渇きを満たしたい場合    1\n",
       "Name: q2_snt11_1, dtype: int64"
      ]
     },
     "execution_count": 455,
     "metadata": {},
     "output_type": "execute_result"
    }
   ],
   "source": [
    "df['q2_snt11_1'].value_counts()"
   ]
  },
  {
   "cell_type": "code",
   "execution_count": null,
   "id": "20b3e3bf-458f-4415-a9c3-800eed709aa4",
   "metadata": {},
   "outputs": [],
   "source": []
  },
  {
   "cell_type": "code",
   "execution_count": 553,
   "id": "e10ae100-c52f-4bd5-8bfd-6ee5cbb86498",
   "metadata": {},
   "outputs": [
    {
     "name": "stdout",
     "output_type": "stream",
     "text": [
      "---- q2-1 --- 40\n",
      "---- q2-2 --- 23\n",
      "---- q2-3 --- 8\n",
      "---- q2-4 --- 6\n",
      "---- q2-5 --- 35\n",
      "---- q2-6 --- 7\n",
      "---- q2-7 --- 34\n",
      "---- q2-8 --- 8\n",
      "---- q2-9 --- 9\n",
      "---- q2-10 --- 5\n",
      "---- q2-11 --- 1\n",
      "---- q2-12 --- 17\n"
     ]
    }
   ],
   "source": [
    "# αにあたる被験者のペットボトルの購買理由['q2-1' ~ 'q2-12']。\n",
    "df_alpha = df[(df['q3']<3) & (df['q8']<3)].iloc[:, 33:45]\n",
    "\n",
    "df_alpha_col = []\n",
    "df_alpha_val = []\n",
    "\n",
    "for c in df_alpha.columns:\n",
    "    df_alpha_col.append(c)\n",
    "    \n",
    "    if len(df_alpha[c].value_counts().index.values) == 1:\n",
    "        print(\"---- %s ---\" %c, 0)\n",
    "        df_alpha_val.append(0)\n",
    "    else:\n",
    "        value =  df_alpha[c].value_counts()[1]\n",
    "        print(\"---- %s ---\" %c, value)\n",
    "        df_alpha_val.append(value)"
   ]
  },
  {
   "cell_type": "code",
   "execution_count": 554,
   "id": "19ffc57b-f9b5-4056-872b-bd9e4c0bb9a2",
   "metadata": {},
   "outputs": [
    {
     "name": "stdout",
     "output_type": "stream",
     "text": [
      "---- q2-1 --- 11\n",
      "---- q2-2 --- 5\n",
      "---- q2-3 --- 3\n",
      "---- q2-4 --- 1\n",
      "---- q2-5 --- 7\n",
      "---- q2-6 --- 3\n",
      "---- q2-7 --- 10\n",
      "---- q2-8 --- 1\n",
      "---- q2-9 --- 4\n",
      "---- q2-10 --- 1\n",
      "---- q2-11 --- 0\n",
      "---- q2-12 --- 3\n"
     ]
    }
   ],
   "source": [
    "# θにあたる被験者のペットボトルの購買理由['q2-1' ~ 'q2-12']。\n",
    "df_theta = df[(df['q3']>2) & (df['q8']<3)].iloc[:, 33:45]\n",
    "\n",
    "df_theta_col = []\n",
    "df_theta_val = []\n",
    "\n",
    "for c in df_theta.columns:\n",
    "    df_theta_col.append(c)\n",
    "    \n",
    "    if len(df_theta[c].value_counts().index.values) == 1:\n",
    "        print(\"---- %s ---\" %c, 0)\n",
    "        df_theta_val.append(0)\n",
    "    else:\n",
    "        value = df_theta[c].value_counts()[1]\n",
    "        print(\"---- %s ---\" %c, value)\n",
    "        df_theta_val.append(value)"
   ]
  },
  {
   "cell_type": "code",
   "execution_count": 558,
   "id": "13540bc6-3c20-4ed8-9665-878ee278f56d",
   "metadata": {},
   "outputs": [
    {
     "data": {
      "text/plain": [
       "<AxesSubplot: title={'center': 'factors for purchasing pet bottle in α and θ'}, xlabel='Answer', ylabel='ratio of Frequency'>"
      ]
     },
     "execution_count": 558,
     "metadata": {},
     "output_type": "execute_result"
    },
    {
     "data": {
      "image/png": "[encoded data removed]",
      "text/plain": [
       "<Figure size 432x288 with 1 Axes>"
      ]
     },
     "metadata": {
      "needs_background": "light"
     },
     "output_type": "display_data"
    }
   ],
   "source": [
    "df_tmp = pd.DataFrame(\n",
    "    {\n",
    "        'α': [v /sum(df_alpha_val) *100 for v in df_alpha_val], #絶対値を比べてもしょうがないので、%に変換。\n",
    "        'θ': [v /sum(df_theta_val) *100 for v in df_theta_val]\n",
    "    },\n",
    "    index=df_theta_col\n",
    ")\n",
    "\n",
    "df_tmp.plot(\n",
    "    kind = 'bar',\n",
    "    title = 'factors for purchasing pet bottle in α and θ',\n",
    "    ylabel = 'ratio of Frequency',\n",
    "    xlabel = 'Answer',\n",
    "    grid = True\n",
    ")"
   ]
  },
  {
   "cell_type": "code",
   "execution_count": 560,
   "id": "4a7097c4-4fc1-4a58-abf5-aa5fd1aff4b7",
   "metadata": {},
   "outputs": [
    {
     "name": "stdout",
     "output_type": "stream",
     "text": [
      "q2-1 :  1.7235909908004672\n",
      "q2-2 :  -1.7130168129427936\n",
      "q2-3 :  1.977371259384582\n",
      "q2-4 :  -1.067991963624828\n",
      "q2-5 :  -3.8490007401924515\n",
      "q2-6 :  2.4955059744104897\n",
      "q2-7 :  2.7915829544252944\n",
      "q2-8 :  -2.104261393676642\n",
      "q2-9 :  3.500052870889289\n",
      "q2-10 :  -0.5498572485989213\n",
      "q2-11 :  -0.5181347150259068\n",
      "q2-12 :  -2.6858411758485774\n"
     ]
    }
   ],
   "source": [
    "alpha_pet_factor = [v /sum(df_alpha_val) *100 for v in df_alpha_val]\n",
    "theta_pet_factor = [v /sum(df_theta_val) *100 for v in df_theta_val]\n",
    "\n",
    "alpha_pet_factor = np.array(alpha_pet_factor)\n",
    "theta_pet_factor = np.array(theta_pet_factor)\n",
    "\n",
    "subtracted_array = np.subtract(theta_pet_factor, alpha_pet_factor)\n",
    "subtracted = list(subtracted_array)\n",
    "\n",
    "for i, v in enumerate(subtracted):\n",
    "    print(df_theta_col[i], ': ', v)"
   ]
  },
  {
   "cell_type": "code",
   "execution_count": null,
   "id": "cca18e65-e626-4bef-a212-8ba1cfda8e43",
   "metadata": {},
   "outputs": [],
   "source": []
  },
  {
   "cell_type": "code",
   "execution_count": null,
   "id": "80573efe-e24d-4df5-8890-f2f175532e6e",
   "metadata": {},
   "outputs": [],
   "source": []
  },
  {
   "cell_type": "code",
   "execution_count": null,
   "id": "11e1e568-c434-4d6c-a379-80891fbd5216",
   "metadata": {},
   "outputs": [],
   "source": []
  },
  {
   "cell_type": "code",
   "execution_count": null,
   "id": "c4003695-ddb8-4c10-8e2c-f75271f5f5a8",
   "metadata": {},
   "outputs": [],
   "source": []
  },
  {
   "cell_type": "code",
   "execution_count": null,
   "id": "2e5e22b7-59e1-44d3-b537-b5fccdfb3ec3",
   "metadata": {},
   "outputs": [],
   "source": []
  },
  {
   "cell_type": "code",
   "execution_count": null,
   "id": "089cdd44-714b-4f1e-95fe-11eb8bfca8a3",
   "metadata": {},
   "outputs": [],
   "source": []
  },
  {
   "cell_type": "markdown",
   "id": "c6ae2206-379e-4238-aeed-d1eeca49705e",
   "metadata": {},
   "source": [
    "# explore other data"
   ]
  },
  {
   "cell_type": "markdown",
   "id": "3b6cec2f-2541-4dd2-bafb-a849c5ae972e",
   "metadata": {},
   "source": [
    "### [sc8] 年収データ\n",
    "\n",
    "1 \t２００万円未満  \n",
    "2 \t２００万円以上－　５００万円未満  \n",
    "3 \t５００万円以上－　８００万円未満  \n",
    "4 \t８００万円以上－　１，０００万円未満  \n",
    "5 \t１，０００万円以上  \n",
    "6 \tわからない  "
   ]
  },
  {
   "cell_type": "code",
   "execution_count": 153,
   "id": "845dbdee-ce0e-422b-a50d-6f783c4dc30e",
   "metadata": {},
   "outputs": [
    {
     "data": {
      "text/plain": [
       "1    10.2\n",
       "2    28.8\n",
       "3    21.6\n",
       "4     8.0\n",
       "5    10.0\n",
       "6    21.4\n",
       "Name: sc8, dtype: float64"
      ]
     },
     "execution_count": 153,
     "metadata": {},
     "output_type": "execute_result"
    }
   ],
   "source": [
    "df['sc8'].value_counts(normalize=True).sort_index()*100"
   ]
  },
  {
   "cell_type": "code",
   "execution_count": 140,
   "id": "87c6b8c0-f478-48d4-be34-5a3326dba9e0",
   "metadata": {},
   "outputs": [
    {
     "data": {
      "text/plain": [
       "<AxesSubplot: title={'center': 'household income'}, xlabel='Answer', ylabel='icnome'>"
      ]
     },
     "execution_count": 140,
     "metadata": {},
     "output_type": "execute_result"
    },
    {
     "data": {
      "image/png": "[encoded data removed]",
      "text/plain": [
       "<Figure size 432x288 with 1 Axes>"
      ]
     },
     "metadata": {
      "needs_background": "light"
     },
     "output_type": "display_data"
    }
   ],
   "source": [
    "df['sc8'].value_counts().sort_index().plot(\n",
    "    kind = 'bar',\n",
    "    title = 'household income',\n",
    "    ylabel = 'icnome',\n",
    "    xlabel = 'Answer',\n",
    "    grid = True\n",
    ")"
   ]
  },
  {
   "cell_type": "code",
   "execution_count": null,
   "id": "72d13ca3-9b6e-47c1-a0be-32fe95c167ac",
   "metadata": {},
   "outputs": [],
   "source": []
  },
  {
   "cell_type": "markdown",
   "id": "9bf6c88e-10e3-4753-93de-9b71c73b270f",
   "metadata": {},
   "source": [
    "### [sc8] & [sc5] 年収と同居人数のクロス集計\n",
    "\n",
    "[sc5]  \n",
    "1 \tひとり暮らし（同居している人はいない）  \n",
    "2 \t家族と同居（未成年の子どもあり）  \n",
    "3 \t家族と同居（未成年の子どもはいない）  \n",
    "4 \t家族以外の人と同居  \n",
    "5 \tその他"
   ]
  },
  {
   "cell_type": "code",
   "execution_count": 149,
   "id": "031a80fb-d637-4e7c-a331-94786aaac842",
   "metadata": {},
   "outputs": [
    {
     "data": {
      "text/html": [
       "<div>\n",
       "<style scoped>\n",
       "    .dataframe tbody tr th:only-of-type {\n",
       "        vertical-align: middle;\n",
       "    }\n",
       "\n",
       "    .dataframe tbody tr th {\n",
       "        vertical-align: top;\n",
       "    }\n",
       "\n",
       "    .dataframe thead th {\n",
       "        text-align: right;\n",
       "    }\n",
       "</style>\n",
       "<table border=\"1\" class=\"dataframe\">\n",
       "  <thead>\n",
       "    <tr style=\"text-align: right;\">\n",
       "      <th>family type</th>\n",
       "      <th>1</th>\n",
       "      <th>2</th>\n",
       "      <th>3</th>\n",
       "      <th>4</th>\n",
       "      <th>5</th>\n",
       "    </tr>\n",
       "    <tr>\n",
       "      <th>house income</th>\n",
       "      <th></th>\n",
       "      <th></th>\n",
       "      <th></th>\n",
       "      <th></th>\n",
       "      <th></th>\n",
       "    </tr>\n",
       "  </thead>\n",
       "  <tbody>\n",
       "    <tr>\n",
       "      <th>1</th>\n",
       "      <td>30</td>\n",
       "      <td>7</td>\n",
       "      <td>13</td>\n",
       "      <td>0</td>\n",
       "      <td>1</td>\n",
       "    </tr>\n",
       "    <tr>\n",
       "      <th>2</th>\n",
       "      <td>48</td>\n",
       "      <td>19</td>\n",
       "      <td>71</td>\n",
       "      <td>2</td>\n",
       "      <td>4</td>\n",
       "    </tr>\n",
       "    <tr>\n",
       "      <th>3</th>\n",
       "      <td>11</td>\n",
       "      <td>41</td>\n",
       "      <td>54</td>\n",
       "      <td>1</td>\n",
       "      <td>1</td>\n",
       "    </tr>\n",
       "    <tr>\n",
       "      <th>4</th>\n",
       "      <td>3</td>\n",
       "      <td>12</td>\n",
       "      <td>24</td>\n",
       "      <td>1</td>\n",
       "      <td>0</td>\n",
       "    </tr>\n",
       "    <tr>\n",
       "      <th>5</th>\n",
       "      <td>4</td>\n",
       "      <td>17</td>\n",
       "      <td>29</td>\n",
       "      <td>0</td>\n",
       "      <td>0</td>\n",
       "    </tr>\n",
       "    <tr>\n",
       "      <th>6</th>\n",
       "      <td>12</td>\n",
       "      <td>20</td>\n",
       "      <td>72</td>\n",
       "      <td>0</td>\n",
       "      <td>3</td>\n",
       "    </tr>\n",
       "  </tbody>\n",
       "</table>\n",
       "</div>"
      ],
      "text/plain": [
       "family type    1   2   3  4  5\n",
       "house income                  \n",
       "1             30   7  13  0  1\n",
       "2             48  19  71  2  4\n",
       "3             11  41  54  1  1\n",
       "4              3  12  24  1  0\n",
       "5              4  17  29  0  0\n",
       "6             12  20  72  0  3"
      ]
     },
     "execution_count": 149,
     "metadata": {},
     "output_type": "execute_result"
    }
   ],
   "source": [
    "# percentage in column\n",
    "pd.crosstab(df['sc8'], df['sc5'] ,colnames=[\"family type\"], rownames=[\"house income\"] )"
   ]
  },
  {
   "cell_type": "code",
   "execution_count": 150,
   "id": "29a1895f-080b-4ae4-99b3-cd9ae034ec99",
   "metadata": {},
   "outputs": [
    {
     "data": {
      "text/html": [
       "<div>\n",
       "<style scoped>\n",
       "    .dataframe tbody tr th:only-of-type {\n",
       "        vertical-align: middle;\n",
       "    }\n",
       "\n",
       "    .dataframe tbody tr th {\n",
       "        vertical-align: top;\n",
       "    }\n",
       "\n",
       "    .dataframe thead th {\n",
       "        text-align: right;\n",
       "    }\n",
       "</style>\n",
       "<table border=\"1\" class=\"dataframe\">\n",
       "  <thead>\n",
       "    <tr style=\"text-align: right;\">\n",
       "      <th>family type</th>\n",
       "      <th>1</th>\n",
       "      <th>2</th>\n",
       "      <th>3</th>\n",
       "      <th>4</th>\n",
       "      <th>5</th>\n",
       "    </tr>\n",
       "    <tr>\n",
       "      <th>house income</th>\n",
       "      <th></th>\n",
       "      <th></th>\n",
       "      <th></th>\n",
       "      <th></th>\n",
       "      <th></th>\n",
       "    </tr>\n",
       "  </thead>\n",
       "  <tbody>\n",
       "    <tr>\n",
       "      <th>1</th>\n",
       "      <td>6.0</td>\n",
       "      <td>1.4</td>\n",
       "      <td>2.6</td>\n",
       "      <td>0.0</td>\n",
       "      <td>0.2</td>\n",
       "    </tr>\n",
       "    <tr>\n",
       "      <th>2</th>\n",
       "      <td>9.6</td>\n",
       "      <td>3.8</td>\n",
       "      <td>14.2</td>\n",
       "      <td>0.4</td>\n",
       "      <td>0.8</td>\n",
       "    </tr>\n",
       "    <tr>\n",
       "      <th>3</th>\n",
       "      <td>2.2</td>\n",
       "      <td>8.2</td>\n",
       "      <td>10.8</td>\n",
       "      <td>0.2</td>\n",
       "      <td>0.2</td>\n",
       "    </tr>\n",
       "    <tr>\n",
       "      <th>4</th>\n",
       "      <td>0.6</td>\n",
       "      <td>2.4</td>\n",
       "      <td>4.8</td>\n",
       "      <td>0.2</td>\n",
       "      <td>0.0</td>\n",
       "    </tr>\n",
       "    <tr>\n",
       "      <th>5</th>\n",
       "      <td>0.8</td>\n",
       "      <td>3.4</td>\n",
       "      <td>5.8</td>\n",
       "      <td>0.0</td>\n",
       "      <td>0.0</td>\n",
       "    </tr>\n",
       "    <tr>\n",
       "      <th>6</th>\n",
       "      <td>2.4</td>\n",
       "      <td>4.0</td>\n",
       "      <td>14.4</td>\n",
       "      <td>0.0</td>\n",
       "      <td>0.6</td>\n",
       "    </tr>\n",
       "  </tbody>\n",
       "</table>\n",
       "</div>"
      ],
      "text/plain": [
       "family type     1    2     3    4    5\n",
       "house income                          \n",
       "1             6.0  1.4   2.6  0.0  0.2\n",
       "2             9.6  3.8  14.2  0.4  0.8\n",
       "3             2.2  8.2  10.8  0.2  0.2\n",
       "4             0.6  2.4   4.8  0.2  0.0\n",
       "5             0.8  3.4   5.8  0.0  0.0\n",
       "6             2.4  4.0  14.4  0.0  0.6"
      ]
     },
     "execution_count": 150,
     "metadata": {},
     "output_type": "execute_result"
    }
   ],
   "source": [
    "# percentage in column\n",
    "pd.crosstab(df['sc8'], df['sc5'] ,colnames=[\"family type\"], rownames=[\"house income\"], normalize=\"all\")*100"
   ]
  },
  {
   "cell_type": "code",
   "execution_count": null,
   "id": "75f2aff7-66b5-4563-8da0-0deaf56355df",
   "metadata": {},
   "outputs": [],
   "source": []
  },
  {
   "cell_type": "code",
   "execution_count": null,
   "id": "33fc71f7-18f4-4bf3-a948-c05b1a3acad3",
   "metadata": {},
   "outputs": [],
   "source": []
  },
  {
   "cell_type": "code",
   "execution_count": null,
   "id": "2baa3dcb-3a10-4c63-92a6-d2e9a91c8836",
   "metadata": {},
   "outputs": [],
   "source": []
  },
  {
   "cell_type": "markdown",
   "id": "9cb888f2-321b-4ac9-8863-328df4e77b63",
   "metadata": {},
   "source": [
    "### Tシャツの普段の購入金額\n",
    "\n",
    "1 \t１，０００円未満  \n",
    "2 \t１，０００円～１，９９９円  \n",
    "3 \t２，０００円～２，９９９円  \n",
    "4 \t３，０００円～３，９９９円  \n",
    "5 \t４，０００円～４，９９９円  \n",
    "6 \t５，０００円～５，９９９円  \n",
    "7 \t６，０００円～６，９９９円  \n",
    "8 \t７，０００円～７，９９９円  \n",
    "9 \t８，０００円～８，９９９円  \n",
    "10 \t９，０００円～９，９９９円  \n",
    "11 \t１０，０００円以上  \n",
    "12 \tわからない  "
   ]
  },
  {
   "cell_type": "code",
   "execution_count": 204,
   "id": "61f80136-3d93-4940-b183-f7a7f12a85af",
   "metadata": {},
   "outputs": [
    {
     "data": {
      "text/plain": [
       "<AxesSubplot: xlabel='Answer', ylabel='Frequency'>"
      ]
     },
     "execution_count": 204,
     "metadata": {},
     "output_type": "execute_result"
    },
    {
     "data": {
      "image/png": "[encoded data removed]",
      "text/plain": [
       "<Figure size 432x288 with 1 Axes>"
      ]
     },
     "metadata": {
      "needs_background": "light"
     },
     "output_type": "display_data"
    }
   ],
   "source": [
    "df['q7'].value_counts().sort_index().plot(\n",
    "    kind = 'bar',\n",
    "    title = '',\n",
    "    ylabel = 'Frequency',\n",
    "    xlabel = 'Answer',\n",
    "    grid = True\n",
    ")"
   ]
  },
  {
   "cell_type": "code",
   "execution_count": 207,
   "id": "a69719de-ff12-48e5-b067-ef29f2c76791",
   "metadata": {},
   "outputs": [
    {
     "name": "stdout",
     "output_type": "stream",
     "text": [
      "<class 'pandas.core.series.Series'>\n",
      "RangeIndex: 500 entries, 0 to 499\n",
      "Series name: q7\n",
      "Non-Null Count  Dtype\n",
      "--------------  -----\n",
      "500 non-null    int64\n",
      "dtypes: int64(1)\n",
      "memory usage: 4.0 KB\n"
     ]
    }
   ],
   "source": [
    "df['q7'].info()"
   ]
  },
  {
   "cell_type": "code",
   "execution_count": 202,
   "id": "ad598c17-abc7-4360-9399-b1df8cb14b50",
   "metadata": {},
   "outputs": [
    {
     "data": {
      "text/plain": [
       "1     19.6\n",
       "2     31.6\n",
       "3     17.4\n",
       "4      9.8\n",
       "5      3.8\n",
       "6      3.2\n",
       "7      1.4\n",
       "8      1.2\n",
       "9      0.4\n",
       "10     0.4\n",
       "11     0.8\n",
       "12    10.4\n",
       "Name: q7, dtype: float64"
      ]
     },
     "execution_count": 202,
     "metadata": {},
     "output_type": "execute_result"
    }
   ],
   "source": [
    "df['q7'].value_counts(normalize=True).sort_index()*100"
   ]
  },
  {
   "cell_type": "code",
   "execution_count": 206,
   "id": "1e5e0509-3710-4c7b-9f0d-2f7cc648009b",
   "metadata": {},
   "outputs": [
    {
     "data": {
      "text/plain": [
       "68.6"
      ]
     },
     "execution_count": 206,
     "metadata": {},
     "output_type": "execute_result"
    }
   ],
   "source": [
    "#1000円未満~2,999円の割合\n",
    "19.6+31.6+17.4"
   ]
  },
  {
   "cell_type": "code",
   "execution_count": null,
   "id": "06fffe5b-1b72-4d67-86a6-e98f9958b509",
   "metadata": {},
   "outputs": [],
   "source": []
  }
 ],
 "metadata": {
  "kernelspec": {
   "display_name": "Python 3 (ipykernel)",
   "language": "python",
   "name": "python3"
  },
  "language_info": {
   "codemirror_mode": {
    "name": "ipython",
    "version": 3
   },
   "file_extension": ".py",
   "mimetype": "text/x-python",
   "name": "python",
   "nbconvert_exporter": "python",
   "pygments_lexer": "ipython3",
   "version": "3.10.4"
  }
 },
 "nbformat": 4,
 "nbformat_minor": 5
}
